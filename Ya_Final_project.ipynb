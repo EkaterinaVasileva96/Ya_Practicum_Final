{
 "cells": [
  {
   "cell_type": "markdown",
   "id": "030ef82f",
   "metadata": {},
   "source": [
    "# Телеком"
   ]
  },
  {
   "cell_type": "markdown",
   "id": "d858f67d",
   "metadata": {},
   "source": [
    "## План работы\n",
    "\n",
    "1. Сформировать цель и описание данных.\n",
    "2. Произвести подготовку данных для анализа: \n",
    "    - Выгрузить данные \n",
    "    - Проверить наличие дубликатов, пропусков и соответствия типов данных\n",
    "    - Объединить файлы для удобства изучения\n",
    "3. Провести исследовательский анализ данных:\n",
    "    - Сравнение распределения величин ежемесячных платежей всех клиентов и тех, кто ушел\n",
    "    - Расчет стастических метрик для всех клиентов и тех, кто ушел: медиана, среднее, мин, мах, квантили\n",
    "    - Графики, отображающие долю интернет-пользователей и пользователей телефонной связи\n",
    "4. Подготовить данные для обучения: \n",
    "    - Разделение данных на обучающую и тестовую выборки\n",
    "    - Кодирование категориальных признаков\n",
    "    - Маcштабирование количественных признаков\n",
    "    - Анализ баланса классов\n",
    "5. Обучение простых моделей:\n",
    "    - Обучение простых моделей с автоподобором дисбаланса классов\n",
    "    - Обучение простых моделей с учетом дисбаланса классов (upsamaple, downsamle)\n",
    "6. Тестирование лучшей модели\n",
    "7. Обучение и тестирование модели градиентного бустинга.\n",
    "8. Общие выводы"
   ]
  },
  {
   "cell_type": "markdown",
   "id": "f01ff6d5",
   "metadata": {},
   "source": [
    "## 1. Цель и описание данных\n",
    "\n",
    "Оператор связи «Ниединогоразрыва.ком» хочет научиться прогнозировать отток клиентов. Если выяснится, что пользователь планирует уйти, ему будут предложены промокоды и специальные условия. Команда оператора собрала персональные данные о некоторых клиентах, информацию об их тарифах и договорах.\n",
    "\n",
    "### Описание услуг\n",
    "\n",
    "Оператор предоставляет два основных типа услуг: \n",
    "\n",
    "1. Стационарную телефонную связь. Возможно подключение телефонного аппарата к нескольким линиям одновременно.\n",
    "2. Интернет. Подключение может быть двух типов: через телефонную линию (DSL*,* от англ. *digital subscriber line*, «цифровая абонентская линия») или оптоволоконный кабель (*Fiber optic*).  \n",
    "\n",
    "Также доступны такие услуги:\n",
    "\n",
    "- Интернет-безопасность: антивирус (*DeviceProtection*) и блокировка небезопасных сайтов (*OnlineSecurity*);\n",
    "- Выделенная линия технической поддержки (*TechSupport*);\n",
    "- Облачное хранилище файлов для резервного копирования данных (*OnlineBackup*);\n",
    "- Стриминговое телевидение (*StreamingTV*) и каталог фильмов (*StreamingMovies*).\n",
    "\n",
    "За услуги клиенты могут платить каждый месяц или заключить договор на 1–2 года. Доступны различные способы расчёта и возможность получения электронного чека.\n",
    "\n",
    "### Описание данных\n",
    "\n",
    "Данные состоят из файлов, полученных из разных источников:\n",
    "\n",
    "- `contract.csv` — информация о договоре;\n",
    "- `personal.csv` — персональные данные клиента;\n",
    "- `internet.csv` — информация об интернет-услугах;\n",
    "- `phone.csv` — информация об услугах телефонии.\n",
    "\n",
    "Во всех файлах столбец `customerID` содержит код клиента.\n",
    "\n",
    "Информация о договорах актуальна на 1 февраля 2020.\n",
    "\n",
    "\n",
    "***Описание данных внутри представленных таблиц:*** \n",
    "\n",
    "**contract**:<div>\n",
    "*customerID* - уникальный идентификатор клиента;<div>\n",
    "*BeginDate* - дата подключения к оператору;<div>\n",
    "*EndDate* - дата прекращения договора;<div>\n",
    "*Type* - тип договора (с помесячной оплатой, годовой или двухгодовой);<div>\n",
    "*Paperlessbilling* - электронный счет;<div>\n",
    "*PaymentMethod* - метод оплаты;<div>\n",
    "*MonthlyCharges* - ежемесячная плата за услуги;<div>\n",
    "*TotalCharges* - общая плата за услуги за все время.\n",
    "\n",
    "**personal**:<div>\n",
    "*customerID* - уникальный идентификатор клиента;<div>\n",
    "*Gender* - пол клиента;<div>\n",
    "*SeniorCitizen* - является ли клиент пенсионером;<div>\n",
    "*Partner* - наличие супруга/супруги;<div>\n",
    "*Dependents* - наличие иждивенцев.\n",
    "\n",
    "**internet**:<div>\n",
    "*customerID* - уникальный идентификатор клиента;<div>\n",
    "*InternetService* - тип подключения интернета (DSL, оптоволокно);<div>\n",
    "*OnlineSecurity* - наличие услуги блокировки небезопасных сайтов;<div>\n",
    "*OnlineBackup* - наличие облачного хранилища для создания резервных копий;<div>\n",
    "*DeviceProtection* - наличие услуги антивируса;<div>\n",
    "*TechSupport* - наличие выделенной линии технической поддержки;<div>\n",
    "*StreamingTV* - наличие услуги онлайн-телевидения;<div>\n",
    "*StreamingMovies* - наличие услуги онлайн-кинотеатра.\n",
    "\n",
    "**phone**:<div>\n",
    "*customerID* - уникальный идентификатор клиента;<div>\n",
    "*MultipleLines* - наличие нескольких телефонных линий у клиента.<div>\n"
   ]
  },
  {
   "cell_type": "markdown",
   "id": "80772448",
   "metadata": {},
   "source": [
    "## 2. Подготовка данных для анализа"
   ]
  },
  {
   "cell_type": "code",
   "execution_count": 1,
   "id": "b01d9b73",
   "metadata": {},
   "outputs": [
    {
     "name": "stdout",
     "output_type": "stream",
     "text": [
      "Requirement already satisfied: catboost in ./opt/anaconda3/lib/python3.9/site-packages (1.0.6)\n",
      "Requirement already satisfied: plotly in ./opt/anaconda3/lib/python3.9/site-packages (from catboost) (5.9.0)\n",
      "Requirement already satisfied: graphviz in ./opt/anaconda3/lib/python3.9/site-packages (from catboost) (0.20.1)\n",
      "Requirement already satisfied: pandas>=0.24.0 in ./opt/anaconda3/lib/python3.9/site-packages (from catboost) (1.3.4)\n",
      "Requirement already satisfied: six in ./opt/anaconda3/lib/python3.9/site-packages (from catboost) (1.16.0)\n",
      "Requirement already satisfied: numpy>=1.16.0 in ./opt/anaconda3/lib/python3.9/site-packages (from catboost) (1.20.3)\n",
      "Requirement already satisfied: matplotlib in ./opt/anaconda3/lib/python3.9/site-packages (from catboost) (3.4.3)\n",
      "Requirement already satisfied: scipy in ./opt/anaconda3/lib/python3.9/site-packages (from catboost) (1.7.1)\n",
      "Requirement already satisfied: python-dateutil>=2.7.3 in ./opt/anaconda3/lib/python3.9/site-packages (from pandas>=0.24.0->catboost) (2.8.2)\n",
      "Requirement already satisfied: pytz>=2017.3 in ./opt/anaconda3/lib/python3.9/site-packages (from pandas>=0.24.0->catboost) (2021.3)\n",
      "Requirement already satisfied: pyparsing>=2.2.1 in ./opt/anaconda3/lib/python3.9/site-packages (from matplotlib->catboost) (3.0.4)\n",
      "Requirement already satisfied: kiwisolver>=1.0.1 in ./opt/anaconda3/lib/python3.9/site-packages (from matplotlib->catboost) (1.3.1)\n",
      "Requirement already satisfied: cycler>=0.10 in ./opt/anaconda3/lib/python3.9/site-packages (from matplotlib->catboost) (0.10.0)\n",
      "Requirement already satisfied: pillow>=6.2.0 in ./opt/anaconda3/lib/python3.9/site-packages (from matplotlib->catboost) (8.4.0)\n",
      "Requirement already satisfied: tenacity>=6.2.0 in ./opt/anaconda3/lib/python3.9/site-packages (from plotly->catboost) (8.0.1)\n",
      "Requirement already satisfied: category_encoders in ./opt/anaconda3/lib/python3.9/site-packages (2.5.0)\n",
      "Requirement already satisfied: scikit-learn>=0.20.0 in ./opt/anaconda3/lib/python3.9/site-packages (from category_encoders) (0.24.2)\n",
      "Requirement already satisfied: patsy>=0.5.1 in ./opt/anaconda3/lib/python3.9/site-packages (from category_encoders) (0.5.2)\n",
      "Requirement already satisfied: statsmodels>=0.9.0 in ./opt/anaconda3/lib/python3.9/site-packages (from category_encoders) (0.12.2)\n",
      "Requirement already satisfied: scipy>=1.0.0 in ./opt/anaconda3/lib/python3.9/site-packages (from category_encoders) (1.7.1)\n",
      "Requirement already satisfied: numpy>=1.14.0 in ./opt/anaconda3/lib/python3.9/site-packages (from category_encoders) (1.20.3)\n",
      "Requirement already satisfied: pandas>=1.0.5 in ./opt/anaconda3/lib/python3.9/site-packages (from category_encoders) (1.3.4)\n",
      "Requirement already satisfied: python-dateutil>=2.7.3 in ./opt/anaconda3/lib/python3.9/site-packages (from pandas>=1.0.5->category_encoders) (2.8.2)\n",
      "Requirement already satisfied: pytz>=2017.3 in ./opt/anaconda3/lib/python3.9/site-packages (from pandas>=1.0.5->category_encoders) (2021.3)\n",
      "Requirement already satisfied: six in ./opt/anaconda3/lib/python3.9/site-packages (from patsy>=0.5.1->category_encoders) (1.16.0)\n",
      "Requirement already satisfied: threadpoolctl>=2.0.0 in ./opt/anaconda3/lib/python3.9/site-packages (from scikit-learn>=0.20.0->category_encoders) (2.2.0)\n",
      "Requirement already satisfied: joblib>=0.11 in ./opt/anaconda3/lib/python3.9/site-packages (from scikit-learn>=0.20.0->category_encoders) (1.1.0)\n"
     ]
    }
   ],
   "source": [
    "import pandas as pd\n",
    "import numpy as np\n",
    "from scipy import stats as st\n",
    "\n",
    "import warnings\n",
    "warnings.filterwarnings('ignore')\n",
    "\n",
    "\n",
    "from IPython.display import display\n",
    "pd.set_option('display.max_columns', 100)\n",
    "\n",
    "import matplotlib.pyplot as plt\n",
    "\n",
    "from sklearn.preprocessing import StandardScaler\n",
    "from sklearn.model_selection import train_test_split\n",
    "from sklearn.model_selection import GridSearchCV\n",
    "from sklearn.tree import DecisionTreeClassifier\n",
    "from sklearn.ensemble import RandomForestClassifier\n",
    "from sklearn.linear_model import LogisticRegression\n",
    "from sklearn.metrics import precision_score, accuracy_score, roc_curve, make_scorer,roc_auc_score, recall_score\n",
    "from sklearn.utils import shuffle\n",
    "\n",
    "!pip install catboost\n",
    "\n",
    "from catboost import CatBoostClassifier\n",
    "\n",
    "!pip install category_encoders\n",
    "\n",
    "from category_encoders import OneHotEncoder\n",
    "import collections"
   ]
  },
  {
   "cell_type": "code",
   "execution_count": 4,
   "id": "e86d61b5",
   "metadata": {},
   "outputs": [],
   "source": [
    "#local\n",
    "contract = pd.read_csv('/Users/katerinakasanova/Desktop/Обучение/final_provider/contract.csv', na_values=' ')\n",
    "internet = pd.read_csv('/Users/katerinakasanova/Desktop/Обучение/final_provider/internet.csv', na_values=' ')\n",
    "personal = pd.read_csv('/Users/katerinakasanova/Desktop/Обучение/final_provider/personal.csv', na_values=' ')\n",
    "phone = pd.read_csv('/Users/katerinakasanova/Desktop/Обучение/final_provider/phone.csv', na_values=' ')\n",
    "\n",
    "#yandex\n",
    "contract = pd.read_csv('/datasets/final_provider/contract.csv', na_values=' ')\n",
    "internet = pd.read_csv('/datasets/final_provider/internet.csv', na_values=' ')\n",
    "personal = pd.read_csv('/datasets/final_provider/personal.csv', na_values=' ')\n",
    "phone = pd.read_csv('/datasets/final_provider/phone.csv', na_values=' ')"
   ]
  },
  {
   "cell_type": "markdown",
   "id": "124147b0",
   "metadata": {},
   "source": [
    "**Данные о договорах**"
   ]
  },
  {
   "cell_type": "code",
   "execution_count": 3,
   "id": "5f7d9178",
   "metadata": {},
   "outputs": [
    {
     "data": {
      "text/html": [
       "<div>\n",
       "<style scoped>\n",
       "    .dataframe tbody tr th:only-of-type {\n",
       "        vertical-align: middle;\n",
       "    }\n",
       "\n",
       "    .dataframe tbody tr th {\n",
       "        vertical-align: top;\n",
       "    }\n",
       "\n",
       "    .dataframe thead th {\n",
       "        text-align: right;\n",
       "    }\n",
       "</style>\n",
       "<table border=\"1\" class=\"dataframe\">\n",
       "  <thead>\n",
       "    <tr style=\"text-align: right;\">\n",
       "      <th></th>\n",
       "      <th>customerID</th>\n",
       "      <th>BeginDate</th>\n",
       "      <th>EndDate</th>\n",
       "      <th>Type</th>\n",
       "      <th>PaperlessBilling</th>\n",
       "      <th>PaymentMethod</th>\n",
       "      <th>MonthlyCharges</th>\n",
       "      <th>TotalCharges</th>\n",
       "    </tr>\n",
       "  </thead>\n",
       "  <tbody>\n",
       "    <tr>\n",
       "      <th>0</th>\n",
       "      <td>7590-VHVEG</td>\n",
       "      <td>2020-01-01</td>\n",
       "      <td>No</td>\n",
       "      <td>Month-to-month</td>\n",
       "      <td>Yes</td>\n",
       "      <td>Electronic check</td>\n",
       "      <td>29.85</td>\n",
       "      <td>29.85</td>\n",
       "    </tr>\n",
       "    <tr>\n",
       "      <th>1</th>\n",
       "      <td>5575-GNVDE</td>\n",
       "      <td>2017-04-01</td>\n",
       "      <td>No</td>\n",
       "      <td>One year</td>\n",
       "      <td>No</td>\n",
       "      <td>Mailed check</td>\n",
       "      <td>56.95</td>\n",
       "      <td>1889.50</td>\n",
       "    </tr>\n",
       "    <tr>\n",
       "      <th>2</th>\n",
       "      <td>3668-QPYBK</td>\n",
       "      <td>2019-10-01</td>\n",
       "      <td>2019-12-01 00:00:00</td>\n",
       "      <td>Month-to-month</td>\n",
       "      <td>Yes</td>\n",
       "      <td>Mailed check</td>\n",
       "      <td>53.85</td>\n",
       "      <td>108.15</td>\n",
       "    </tr>\n",
       "    <tr>\n",
       "      <th>3</th>\n",
       "      <td>7795-CFOCW</td>\n",
       "      <td>2016-05-01</td>\n",
       "      <td>No</td>\n",
       "      <td>One year</td>\n",
       "      <td>No</td>\n",
       "      <td>Bank transfer (automatic)</td>\n",
       "      <td>42.30</td>\n",
       "      <td>1840.75</td>\n",
       "    </tr>\n",
       "    <tr>\n",
       "      <th>4</th>\n",
       "      <td>9237-HQITU</td>\n",
       "      <td>2019-09-01</td>\n",
       "      <td>2019-11-01 00:00:00</td>\n",
       "      <td>Month-to-month</td>\n",
       "      <td>Yes</td>\n",
       "      <td>Electronic check</td>\n",
       "      <td>70.70</td>\n",
       "      <td>151.65</td>\n",
       "    </tr>\n",
       "  </tbody>\n",
       "</table>\n",
       "</div>"
      ],
      "text/plain": [
       "   customerID   BeginDate              EndDate            Type  \\\n",
       "0  7590-VHVEG  2020-01-01                   No  Month-to-month   \n",
       "1  5575-GNVDE  2017-04-01                   No        One year   \n",
       "2  3668-QPYBK  2019-10-01  2019-12-01 00:00:00  Month-to-month   \n",
       "3  7795-CFOCW  2016-05-01                   No        One year   \n",
       "4  9237-HQITU  2019-09-01  2019-11-01 00:00:00  Month-to-month   \n",
       "\n",
       "  PaperlessBilling              PaymentMethod  MonthlyCharges  TotalCharges  \n",
       "0              Yes           Electronic check           29.85         29.85  \n",
       "1               No               Mailed check           56.95       1889.50  \n",
       "2              Yes               Mailed check           53.85        108.15  \n",
       "3               No  Bank transfer (automatic)           42.30       1840.75  \n",
       "4              Yes           Electronic check           70.70        151.65  "
      ]
     },
     "metadata": {},
     "output_type": "display_data"
    },
    {
     "name": "stdout",
     "output_type": "stream",
     "text": [
      "<class 'pandas.core.frame.DataFrame'>\n",
      "RangeIndex: 7043 entries, 0 to 7042\n",
      "Data columns (total 8 columns):\n",
      " #   Column            Non-Null Count  Dtype  \n",
      "---  ------            --------------  -----  \n",
      " 0   customerID        7043 non-null   object \n",
      " 1   BeginDate         7043 non-null   object \n",
      " 2   EndDate           7043 non-null   object \n",
      " 3   Type              7043 non-null   object \n",
      " 4   PaperlessBilling  7043 non-null   object \n",
      " 5   PaymentMethod     7043 non-null   object \n",
      " 6   MonthlyCharges    7043 non-null   float64\n",
      " 7   TotalCharges      7032 non-null   float64\n",
      "dtypes: float64(2), object(6)\n",
      "memory usage: 440.3+ KB\n"
     ]
    },
    {
     "data": {
      "text/html": [
       "<div>\n",
       "<style scoped>\n",
       "    .dataframe tbody tr th:only-of-type {\n",
       "        vertical-align: middle;\n",
       "    }\n",
       "\n",
       "    .dataframe tbody tr th {\n",
       "        vertical-align: top;\n",
       "    }\n",
       "\n",
       "    .dataframe thead th {\n",
       "        text-align: right;\n",
       "    }\n",
       "</style>\n",
       "<table border=\"1\" class=\"dataframe\">\n",
       "  <thead>\n",
       "    <tr style=\"text-align: right;\">\n",
       "      <th></th>\n",
       "      <th>MonthlyCharges</th>\n",
       "      <th>TotalCharges</th>\n",
       "    </tr>\n",
       "  </thead>\n",
       "  <tbody>\n",
       "    <tr>\n",
       "      <th>count</th>\n",
       "      <td>7043.000000</td>\n",
       "      <td>7032.000000</td>\n",
       "    </tr>\n",
       "    <tr>\n",
       "      <th>mean</th>\n",
       "      <td>64.761692</td>\n",
       "      <td>2283.300441</td>\n",
       "    </tr>\n",
       "    <tr>\n",
       "      <th>std</th>\n",
       "      <td>30.090047</td>\n",
       "      <td>2266.771362</td>\n",
       "    </tr>\n",
       "    <tr>\n",
       "      <th>min</th>\n",
       "      <td>18.250000</td>\n",
       "      <td>18.800000</td>\n",
       "    </tr>\n",
       "    <tr>\n",
       "      <th>25%</th>\n",
       "      <td>35.500000</td>\n",
       "      <td>401.450000</td>\n",
       "    </tr>\n",
       "    <tr>\n",
       "      <th>50%</th>\n",
       "      <td>70.350000</td>\n",
       "      <td>1397.475000</td>\n",
       "    </tr>\n",
       "    <tr>\n",
       "      <th>75%</th>\n",
       "      <td>89.850000</td>\n",
       "      <td>3794.737500</td>\n",
       "    </tr>\n",
       "    <tr>\n",
       "      <th>max</th>\n",
       "      <td>118.750000</td>\n",
       "      <td>8684.800000</td>\n",
       "    </tr>\n",
       "  </tbody>\n",
       "</table>\n",
       "</div>"
      ],
      "text/plain": [
       "       MonthlyCharges  TotalCharges\n",
       "count     7043.000000   7032.000000\n",
       "mean        64.761692   2283.300441\n",
       "std         30.090047   2266.771362\n",
       "min         18.250000     18.800000\n",
       "25%         35.500000    401.450000\n",
       "50%         70.350000   1397.475000\n",
       "75%         89.850000   3794.737500\n",
       "max        118.750000   8684.800000"
      ]
     },
     "execution_count": 3,
     "metadata": {},
     "output_type": "execute_result"
    }
   ],
   "source": [
    "display(contract.head())\n",
    "contract.info()\n",
    "contract.describe()"
   ]
  },
  {
   "cell_type": "code",
   "execution_count": 4,
   "id": "d1f09c4e",
   "metadata": {},
   "outputs": [
    {
     "name": "stdout",
     "output_type": "stream",
     "text": [
      "Количество дубликатов: 0\n",
      "Количество уникальных пользователей: 7043\n"
     ]
    }
   ],
   "source": [
    "print('Количество дубликатов:', contract.duplicated().sum())\n",
    "print('Количество уникальных пользователей:', len(contract['customerID'].unique()))"
   ]
  },
  {
   "cell_type": "markdown",
   "id": "617fe49b",
   "metadata": {},
   "source": [
    "В данных нет дубликатов, все представленные пользователи - уникальны.<div> Присутствует 11 пропусков в столбце TotalCharges. <div>Колонки с датой BeginDate (дата начала пользования услугами) и EndDate (дата окончания пользования услугами) имеют тип категориальных данных. Необходимо будет поменять."
   ]
  },
  {
   "cell_type": "code",
   "execution_count": 5,
   "id": "8cbfc30d",
   "metadata": {},
   "outputs": [
    {
     "data": {
      "text/html": [
       "<div>\n",
       "<style scoped>\n",
       "    .dataframe tbody tr th:only-of-type {\n",
       "        vertical-align: middle;\n",
       "    }\n",
       "\n",
       "    .dataframe tbody tr th {\n",
       "        vertical-align: top;\n",
       "    }\n",
       "\n",
       "    .dataframe thead th {\n",
       "        text-align: right;\n",
       "    }\n",
       "</style>\n",
       "<table border=\"1\" class=\"dataframe\">\n",
       "  <thead>\n",
       "    <tr style=\"text-align: right;\">\n",
       "      <th></th>\n",
       "      <th>customerID</th>\n",
       "      <th>BeginDate</th>\n",
       "      <th>EndDate</th>\n",
       "      <th>Type</th>\n",
       "      <th>PaperlessBilling</th>\n",
       "      <th>PaymentMethod</th>\n",
       "      <th>MonthlyCharges</th>\n",
       "      <th>TotalCharges</th>\n",
       "    </tr>\n",
       "  </thead>\n",
       "  <tbody>\n",
       "    <tr>\n",
       "      <th>488</th>\n",
       "      <td>4472-LVYGI</td>\n",
       "      <td>2020-02-01</td>\n",
       "      <td>No</td>\n",
       "      <td>Two year</td>\n",
       "      <td>Yes</td>\n",
       "      <td>Bank transfer (automatic)</td>\n",
       "      <td>52.55</td>\n",
       "      <td>NaN</td>\n",
       "    </tr>\n",
       "    <tr>\n",
       "      <th>753</th>\n",
       "      <td>3115-CZMZD</td>\n",
       "      <td>2020-02-01</td>\n",
       "      <td>No</td>\n",
       "      <td>Two year</td>\n",
       "      <td>No</td>\n",
       "      <td>Mailed check</td>\n",
       "      <td>20.25</td>\n",
       "      <td>NaN</td>\n",
       "    </tr>\n",
       "    <tr>\n",
       "      <th>936</th>\n",
       "      <td>5709-LVOEQ</td>\n",
       "      <td>2020-02-01</td>\n",
       "      <td>No</td>\n",
       "      <td>Two year</td>\n",
       "      <td>No</td>\n",
       "      <td>Mailed check</td>\n",
       "      <td>80.85</td>\n",
       "      <td>NaN</td>\n",
       "    </tr>\n",
       "    <tr>\n",
       "      <th>1082</th>\n",
       "      <td>4367-NUYAO</td>\n",
       "      <td>2020-02-01</td>\n",
       "      <td>No</td>\n",
       "      <td>Two year</td>\n",
       "      <td>No</td>\n",
       "      <td>Mailed check</td>\n",
       "      <td>25.75</td>\n",
       "      <td>NaN</td>\n",
       "    </tr>\n",
       "    <tr>\n",
       "      <th>1340</th>\n",
       "      <td>1371-DWPAZ</td>\n",
       "      <td>2020-02-01</td>\n",
       "      <td>No</td>\n",
       "      <td>Two year</td>\n",
       "      <td>No</td>\n",
       "      <td>Credit card (automatic)</td>\n",
       "      <td>56.05</td>\n",
       "      <td>NaN</td>\n",
       "    </tr>\n",
       "    <tr>\n",
       "      <th>3331</th>\n",
       "      <td>7644-OMVMY</td>\n",
       "      <td>2020-02-01</td>\n",
       "      <td>No</td>\n",
       "      <td>Two year</td>\n",
       "      <td>No</td>\n",
       "      <td>Mailed check</td>\n",
       "      <td>19.85</td>\n",
       "      <td>NaN</td>\n",
       "    </tr>\n",
       "    <tr>\n",
       "      <th>3826</th>\n",
       "      <td>3213-VVOLG</td>\n",
       "      <td>2020-02-01</td>\n",
       "      <td>No</td>\n",
       "      <td>Two year</td>\n",
       "      <td>No</td>\n",
       "      <td>Mailed check</td>\n",
       "      <td>25.35</td>\n",
       "      <td>NaN</td>\n",
       "    </tr>\n",
       "    <tr>\n",
       "      <th>4380</th>\n",
       "      <td>2520-SGTTA</td>\n",
       "      <td>2020-02-01</td>\n",
       "      <td>No</td>\n",
       "      <td>Two year</td>\n",
       "      <td>No</td>\n",
       "      <td>Mailed check</td>\n",
       "      <td>20.00</td>\n",
       "      <td>NaN</td>\n",
       "    </tr>\n",
       "    <tr>\n",
       "      <th>5218</th>\n",
       "      <td>2923-ARZLG</td>\n",
       "      <td>2020-02-01</td>\n",
       "      <td>No</td>\n",
       "      <td>One year</td>\n",
       "      <td>Yes</td>\n",
       "      <td>Mailed check</td>\n",
       "      <td>19.70</td>\n",
       "      <td>NaN</td>\n",
       "    </tr>\n",
       "    <tr>\n",
       "      <th>6670</th>\n",
       "      <td>4075-WKNIU</td>\n",
       "      <td>2020-02-01</td>\n",
       "      <td>No</td>\n",
       "      <td>Two year</td>\n",
       "      <td>No</td>\n",
       "      <td>Mailed check</td>\n",
       "      <td>73.35</td>\n",
       "      <td>NaN</td>\n",
       "    </tr>\n",
       "    <tr>\n",
       "      <th>6754</th>\n",
       "      <td>2775-SEFEE</td>\n",
       "      <td>2020-02-01</td>\n",
       "      <td>No</td>\n",
       "      <td>Two year</td>\n",
       "      <td>Yes</td>\n",
       "      <td>Bank transfer (automatic)</td>\n",
       "      <td>61.90</td>\n",
       "      <td>NaN</td>\n",
       "    </tr>\n",
       "  </tbody>\n",
       "</table>\n",
       "</div>"
      ],
      "text/plain": [
       "      customerID   BeginDate EndDate      Type PaperlessBilling  \\\n",
       "488   4472-LVYGI  2020-02-01      No  Two year              Yes   \n",
       "753   3115-CZMZD  2020-02-01      No  Two year               No   \n",
       "936   5709-LVOEQ  2020-02-01      No  Two year               No   \n",
       "1082  4367-NUYAO  2020-02-01      No  Two year               No   \n",
       "1340  1371-DWPAZ  2020-02-01      No  Two year               No   \n",
       "3331  7644-OMVMY  2020-02-01      No  Two year               No   \n",
       "3826  3213-VVOLG  2020-02-01      No  Two year               No   \n",
       "4380  2520-SGTTA  2020-02-01      No  Two year               No   \n",
       "5218  2923-ARZLG  2020-02-01      No  One year              Yes   \n",
       "6670  4075-WKNIU  2020-02-01      No  Two year               No   \n",
       "6754  2775-SEFEE  2020-02-01      No  Two year              Yes   \n",
       "\n",
       "                  PaymentMethod  MonthlyCharges  TotalCharges  \n",
       "488   Bank transfer (automatic)           52.55           NaN  \n",
       "753                Mailed check           20.25           NaN  \n",
       "936                Mailed check           80.85           NaN  \n",
       "1082               Mailed check           25.75           NaN  \n",
       "1340    Credit card (automatic)           56.05           NaN  \n",
       "3331               Mailed check           19.85           NaN  \n",
       "3826               Mailed check           25.35           NaN  \n",
       "4380               Mailed check           20.00           NaN  \n",
       "5218               Mailed check           19.70           NaN  \n",
       "6670               Mailed check           73.35           NaN  \n",
       "6754  Bank transfer (automatic)           61.90           NaN  "
      ]
     },
     "execution_count": 5,
     "metadata": {},
     "output_type": "execute_result"
    }
   ],
   "source": [
    "#Изучим пропуски \n",
    "contract[contract.isnull().any(1)]"
   ]
  },
  {
   "cell_type": "markdown",
   "id": "7b94c6a2",
   "metadata": {},
   "source": [
    "Все пропуски по пользователям, которые стали клиентами 1 февраля 2020 года. Это дата когда делался срез данных. Так как они только присоединились, их поведение не понятно (останутся или уйдут) и таких пользователей всего 11 (достаточно маленький процент от общего числа), то удалим эти строки чтобы не портить обучение моделей."
   ]
  },
  {
   "cell_type": "code",
   "execution_count": 6,
   "id": "5483af2a",
   "metadata": {},
   "outputs": [
    {
     "name": "stdout",
     "output_type": "stream",
     "text": [
      "<class 'pandas.core.frame.DataFrame'>\n",
      "Int64Index: 7032 entries, 0 to 7042\n",
      "Data columns (total 8 columns):\n",
      " #   Column            Non-Null Count  Dtype  \n",
      "---  ------            --------------  -----  \n",
      " 0   customerID        7032 non-null   object \n",
      " 1   BeginDate         7032 non-null   object \n",
      " 2   EndDate           7032 non-null   object \n",
      " 3   Type              7032 non-null   object \n",
      " 4   PaperlessBilling  7032 non-null   object \n",
      " 5   PaymentMethod     7032 non-null   object \n",
      " 6   MonthlyCharges    7032 non-null   float64\n",
      " 7   TotalCharges      7032 non-null   float64\n",
      "dtypes: float64(2), object(6)\n",
      "memory usage: 494.4+ KB\n"
     ]
    }
   ],
   "source": [
    "contract=contract.dropna()\n",
    "contract.info()"
   ]
  },
  {
   "cell_type": "code",
   "execution_count": 7,
   "id": "d90b8a4a",
   "metadata": {},
   "outputs": [],
   "source": [
    "#поменяем тип данных у колонки BeginDate\n",
    "contract['BeginDate']= pd.to_datetime(contract['BeginDate'], format ='%Y-%m-%d')"
   ]
  },
  {
   "cell_type": "markdown",
   "id": "f5403e1e",
   "metadata": {},
   "source": [
    "Создадим колонку СlientGroup, которая показывает является ли пользователь клиентом или уже ушел, основываясь на данных в колонке EndDate. Если даты в колонке нет, то пользователь является клиентом, если дата есть, то ушел."
   ]
  },
  {
   "cell_type": "code",
   "execution_count": 8,
   "id": "9915dc4f",
   "metadata": {},
   "outputs": [
    {
     "data": {
      "text/html": [
       "<div>\n",
       "<style scoped>\n",
       "    .dataframe tbody tr th:only-of-type {\n",
       "        vertical-align: middle;\n",
       "    }\n",
       "\n",
       "    .dataframe tbody tr th {\n",
       "        vertical-align: top;\n",
       "    }\n",
       "\n",
       "    .dataframe thead th {\n",
       "        text-align: right;\n",
       "    }\n",
       "</style>\n",
       "<table border=\"1\" class=\"dataframe\">\n",
       "  <thead>\n",
       "    <tr style=\"text-align: right;\">\n",
       "      <th></th>\n",
       "      <th>customerID</th>\n",
       "      <th>BeginDate</th>\n",
       "      <th>EndDate</th>\n",
       "      <th>Type</th>\n",
       "      <th>PaperlessBilling</th>\n",
       "      <th>PaymentMethod</th>\n",
       "      <th>MonthlyCharges</th>\n",
       "      <th>TotalCharges</th>\n",
       "      <th>СlientGroup</th>\n",
       "    </tr>\n",
       "  </thead>\n",
       "  <tbody>\n",
       "    <tr>\n",
       "      <th>0</th>\n",
       "      <td>7590-VHVEG</td>\n",
       "      <td>2020-01-01</td>\n",
       "      <td>No</td>\n",
       "      <td>Month-to-month</td>\n",
       "      <td>Yes</td>\n",
       "      <td>Electronic check</td>\n",
       "      <td>29.85</td>\n",
       "      <td>29.85</td>\n",
       "      <td>0</td>\n",
       "    </tr>\n",
       "    <tr>\n",
       "      <th>1</th>\n",
       "      <td>5575-GNVDE</td>\n",
       "      <td>2017-04-01</td>\n",
       "      <td>No</td>\n",
       "      <td>One year</td>\n",
       "      <td>No</td>\n",
       "      <td>Mailed check</td>\n",
       "      <td>56.95</td>\n",
       "      <td>1889.50</td>\n",
       "      <td>0</td>\n",
       "    </tr>\n",
       "    <tr>\n",
       "      <th>2</th>\n",
       "      <td>3668-QPYBK</td>\n",
       "      <td>2019-10-01</td>\n",
       "      <td>2019-12-01 00:00:00</td>\n",
       "      <td>Month-to-month</td>\n",
       "      <td>Yes</td>\n",
       "      <td>Mailed check</td>\n",
       "      <td>53.85</td>\n",
       "      <td>108.15</td>\n",
       "      <td>1</td>\n",
       "    </tr>\n",
       "    <tr>\n",
       "      <th>3</th>\n",
       "      <td>7795-CFOCW</td>\n",
       "      <td>2016-05-01</td>\n",
       "      <td>No</td>\n",
       "      <td>One year</td>\n",
       "      <td>No</td>\n",
       "      <td>Bank transfer (automatic)</td>\n",
       "      <td>42.30</td>\n",
       "      <td>1840.75</td>\n",
       "      <td>0</td>\n",
       "    </tr>\n",
       "    <tr>\n",
       "      <th>4</th>\n",
       "      <td>9237-HQITU</td>\n",
       "      <td>2019-09-01</td>\n",
       "      <td>2019-11-01 00:00:00</td>\n",
       "      <td>Month-to-month</td>\n",
       "      <td>Yes</td>\n",
       "      <td>Electronic check</td>\n",
       "      <td>70.70</td>\n",
       "      <td>151.65</td>\n",
       "      <td>1</td>\n",
       "    </tr>\n",
       "  </tbody>\n",
       "</table>\n",
       "</div>"
      ],
      "text/plain": [
       "   customerID  BeginDate              EndDate            Type  \\\n",
       "0  7590-VHVEG 2020-01-01                   No  Month-to-month   \n",
       "1  5575-GNVDE 2017-04-01                   No        One year   \n",
       "2  3668-QPYBK 2019-10-01  2019-12-01 00:00:00  Month-to-month   \n",
       "3  7795-CFOCW 2016-05-01                   No        One year   \n",
       "4  9237-HQITU 2019-09-01  2019-11-01 00:00:00  Month-to-month   \n",
       "\n",
       "  PaperlessBilling              PaymentMethod  MonthlyCharges  TotalCharges  \\\n",
       "0              Yes           Electronic check           29.85         29.85   \n",
       "1               No               Mailed check           56.95       1889.50   \n",
       "2              Yes               Mailed check           53.85        108.15   \n",
       "3               No  Bank transfer (automatic)           42.30       1840.75   \n",
       "4              Yes           Electronic check           70.70        151.65   \n",
       "\n",
       "   СlientGroup  \n",
       "0            0  \n",
       "1            0  \n",
       "2            1  \n",
       "3            0  \n",
       "4            1  "
      ]
     },
     "metadata": {},
     "output_type": "display_data"
    },
    {
     "data": {
      "text/plain": [
       "array([0, 1])"
      ]
     },
     "execution_count": 8,
     "metadata": {},
     "output_type": "execute_result"
    }
   ],
   "source": [
    "def client_group(EndDate):\n",
    "    try:\n",
    "        if EndDate == 'No':\n",
    "            return 0\n",
    "        else:\n",
    "            return 1\n",
    "    except:\n",
    "        print('ошибочное значение')\n",
    "        \n",
    "contract['СlientGroup'] = contract['EndDate'].apply(client_group) \n",
    "display(contract.head())\n",
    "contract['СlientGroup'].unique()"
   ]
  },
  {
   "cell_type": "markdown",
   "id": "63b4b5ea",
   "metadata": {},
   "source": [
    "Посчитаем в отдельной колонке время жизни клиента Lifetime. Создадим копию колонки EndDate и заменим значение No на дату 2020-02-01 - дата когда делался срез данных. И вычислим разницу между EndDateCopy и BeginDate в днях."
   ]
  },
  {
   "cell_type": "code",
   "execution_count": 9,
   "id": "efd9b950",
   "metadata": {},
   "outputs": [
    {
     "data": {
      "text/html": [
       "<div>\n",
       "<style scoped>\n",
       "    .dataframe tbody tr th:only-of-type {\n",
       "        vertical-align: middle;\n",
       "    }\n",
       "\n",
       "    .dataframe tbody tr th {\n",
       "        vertical-align: top;\n",
       "    }\n",
       "\n",
       "    .dataframe thead th {\n",
       "        text-align: right;\n",
       "    }\n",
       "</style>\n",
       "<table border=\"1\" class=\"dataframe\">\n",
       "  <thead>\n",
       "    <tr style=\"text-align: right;\">\n",
       "      <th></th>\n",
       "      <th>customerID</th>\n",
       "      <th>BeginDate</th>\n",
       "      <th>EndDate</th>\n",
       "      <th>Type</th>\n",
       "      <th>PaperlessBilling</th>\n",
       "      <th>PaymentMethod</th>\n",
       "      <th>MonthlyCharges</th>\n",
       "      <th>TotalCharges</th>\n",
       "      <th>СlientGroup</th>\n",
       "      <th>Lifetime</th>\n",
       "    </tr>\n",
       "  </thead>\n",
       "  <tbody>\n",
       "    <tr>\n",
       "      <th>0</th>\n",
       "      <td>7590-VHVEG</td>\n",
       "      <td>2020-01-01</td>\n",
       "      <td>No</td>\n",
       "      <td>Month-to-month</td>\n",
       "      <td>Yes</td>\n",
       "      <td>Electronic check</td>\n",
       "      <td>29.85</td>\n",
       "      <td>29.85</td>\n",
       "      <td>0</td>\n",
       "      <td>31</td>\n",
       "    </tr>\n",
       "    <tr>\n",
       "      <th>1</th>\n",
       "      <td>5575-GNVDE</td>\n",
       "      <td>2017-04-01</td>\n",
       "      <td>No</td>\n",
       "      <td>One year</td>\n",
       "      <td>No</td>\n",
       "      <td>Mailed check</td>\n",
       "      <td>56.95</td>\n",
       "      <td>1889.50</td>\n",
       "      <td>0</td>\n",
       "      <td>1036</td>\n",
       "    </tr>\n",
       "    <tr>\n",
       "      <th>2</th>\n",
       "      <td>3668-QPYBK</td>\n",
       "      <td>2019-10-01</td>\n",
       "      <td>2019-12-01 00:00:00</td>\n",
       "      <td>Month-to-month</td>\n",
       "      <td>Yes</td>\n",
       "      <td>Mailed check</td>\n",
       "      <td>53.85</td>\n",
       "      <td>108.15</td>\n",
       "      <td>1</td>\n",
       "      <td>61</td>\n",
       "    </tr>\n",
       "    <tr>\n",
       "      <th>3</th>\n",
       "      <td>7795-CFOCW</td>\n",
       "      <td>2016-05-01</td>\n",
       "      <td>No</td>\n",
       "      <td>One year</td>\n",
       "      <td>No</td>\n",
       "      <td>Bank transfer (automatic)</td>\n",
       "      <td>42.30</td>\n",
       "      <td>1840.75</td>\n",
       "      <td>0</td>\n",
       "      <td>1371</td>\n",
       "    </tr>\n",
       "    <tr>\n",
       "      <th>4</th>\n",
       "      <td>9237-HQITU</td>\n",
       "      <td>2019-09-01</td>\n",
       "      <td>2019-11-01 00:00:00</td>\n",
       "      <td>Month-to-month</td>\n",
       "      <td>Yes</td>\n",
       "      <td>Electronic check</td>\n",
       "      <td>70.70</td>\n",
       "      <td>151.65</td>\n",
       "      <td>1</td>\n",
       "      <td>61</td>\n",
       "    </tr>\n",
       "  </tbody>\n",
       "</table>\n",
       "</div>"
      ],
      "text/plain": [
       "   customerID  BeginDate              EndDate            Type  \\\n",
       "0  7590-VHVEG 2020-01-01                   No  Month-to-month   \n",
       "1  5575-GNVDE 2017-04-01                   No        One year   \n",
       "2  3668-QPYBK 2019-10-01  2019-12-01 00:00:00  Month-to-month   \n",
       "3  7795-CFOCW 2016-05-01                   No        One year   \n",
       "4  9237-HQITU 2019-09-01  2019-11-01 00:00:00  Month-to-month   \n",
       "\n",
       "  PaperlessBilling              PaymentMethod  MonthlyCharges  TotalCharges  \\\n",
       "0              Yes           Electronic check           29.85         29.85   \n",
       "1               No               Mailed check           56.95       1889.50   \n",
       "2              Yes               Mailed check           53.85        108.15   \n",
       "3               No  Bank transfer (automatic)           42.30       1840.75   \n",
       "4              Yes           Electronic check           70.70        151.65   \n",
       "\n",
       "   СlientGroup  Lifetime  \n",
       "0            0        31  \n",
       "1            0      1036  \n",
       "2            1        61  \n",
       "3            0      1371  \n",
       "4            1        61  "
      ]
     },
     "metadata": {},
     "output_type": "display_data"
    }
   ],
   "source": [
    "contract['EndDateCopy']=contract['EndDate']\n",
    "contract['EndDateCopy']=contract['EndDateCopy'].replace('No', '2020-02-01')\n",
    "contract['EndDateCopy']=pd.to_datetime(contract['EndDateCopy'], format ='%Y-%m-%d')\n",
    "contract['Lifetime']=(contract['EndDateCopy']-contract['BeginDate']).dt.days\n",
    "contract=contract.drop(['EndDateCopy'], axis=1)\n",
    "display(contract.head())"
   ]
  },
  {
   "cell_type": "code",
   "execution_count": 10,
   "id": "553c86c5",
   "metadata": {},
   "outputs": [
    {
     "name": "stdout",
     "output_type": "stream",
     "text": [
      "<class 'pandas.core.frame.DataFrame'>\n",
      "Int64Index: 7032 entries, 0 to 7042\n",
      "Data columns (total 10 columns):\n",
      " #   Column            Non-Null Count  Dtype         \n",
      "---  ------            --------------  -----         \n",
      " 0   customerID        7032 non-null   object        \n",
      " 1   BeginDate         7032 non-null   datetime64[ns]\n",
      " 2   EndDate           7032 non-null   object        \n",
      " 3   Type              7032 non-null   object        \n",
      " 4   PaperlessBilling  7032 non-null   object        \n",
      " 5   PaymentMethod     7032 non-null   object        \n",
      " 6   MonthlyCharges    7032 non-null   float64       \n",
      " 7   TotalCharges      7032 non-null   float64       \n",
      " 8   СlientGroup       7032 non-null   int64         \n",
      " 9   Lifetime          7032 non-null   int64         \n",
      "dtypes: datetime64[ns](1), float64(2), int64(2), object(5)\n",
      "memory usage: 604.3+ KB\n"
     ]
    }
   ],
   "source": [
    "contract.info()"
   ]
  },
  {
   "cell_type": "markdown",
   "id": "9142f82d",
   "metadata": {},
   "source": [
    "**Данные об интернет услугах**"
   ]
  },
  {
   "cell_type": "code",
   "execution_count": 11,
   "id": "e130dad0",
   "metadata": {},
   "outputs": [
    {
     "data": {
      "text/html": [
       "<div>\n",
       "<style scoped>\n",
       "    .dataframe tbody tr th:only-of-type {\n",
       "        vertical-align: middle;\n",
       "    }\n",
       "\n",
       "    .dataframe tbody tr th {\n",
       "        vertical-align: top;\n",
       "    }\n",
       "\n",
       "    .dataframe thead th {\n",
       "        text-align: right;\n",
       "    }\n",
       "</style>\n",
       "<table border=\"1\" class=\"dataframe\">\n",
       "  <thead>\n",
       "    <tr style=\"text-align: right;\">\n",
       "      <th></th>\n",
       "      <th>customerID</th>\n",
       "      <th>InternetService</th>\n",
       "      <th>OnlineSecurity</th>\n",
       "      <th>OnlineBackup</th>\n",
       "      <th>DeviceProtection</th>\n",
       "      <th>TechSupport</th>\n",
       "      <th>StreamingTV</th>\n",
       "      <th>StreamingMovies</th>\n",
       "    </tr>\n",
       "  </thead>\n",
       "  <tbody>\n",
       "    <tr>\n",
       "      <th>0</th>\n",
       "      <td>7590-VHVEG</td>\n",
       "      <td>DSL</td>\n",
       "      <td>No</td>\n",
       "      <td>Yes</td>\n",
       "      <td>No</td>\n",
       "      <td>No</td>\n",
       "      <td>No</td>\n",
       "      <td>No</td>\n",
       "    </tr>\n",
       "    <tr>\n",
       "      <th>1</th>\n",
       "      <td>5575-GNVDE</td>\n",
       "      <td>DSL</td>\n",
       "      <td>Yes</td>\n",
       "      <td>No</td>\n",
       "      <td>Yes</td>\n",
       "      <td>No</td>\n",
       "      <td>No</td>\n",
       "      <td>No</td>\n",
       "    </tr>\n",
       "    <tr>\n",
       "      <th>2</th>\n",
       "      <td>3668-QPYBK</td>\n",
       "      <td>DSL</td>\n",
       "      <td>Yes</td>\n",
       "      <td>Yes</td>\n",
       "      <td>No</td>\n",
       "      <td>No</td>\n",
       "      <td>No</td>\n",
       "      <td>No</td>\n",
       "    </tr>\n",
       "    <tr>\n",
       "      <th>3</th>\n",
       "      <td>7795-CFOCW</td>\n",
       "      <td>DSL</td>\n",
       "      <td>Yes</td>\n",
       "      <td>No</td>\n",
       "      <td>Yes</td>\n",
       "      <td>Yes</td>\n",
       "      <td>No</td>\n",
       "      <td>No</td>\n",
       "    </tr>\n",
       "    <tr>\n",
       "      <th>4</th>\n",
       "      <td>9237-HQITU</td>\n",
       "      <td>Fiber optic</td>\n",
       "      <td>No</td>\n",
       "      <td>No</td>\n",
       "      <td>No</td>\n",
       "      <td>No</td>\n",
       "      <td>No</td>\n",
       "      <td>No</td>\n",
       "    </tr>\n",
       "  </tbody>\n",
       "</table>\n",
       "</div>"
      ],
      "text/plain": [
       "   customerID InternetService OnlineSecurity OnlineBackup DeviceProtection  \\\n",
       "0  7590-VHVEG             DSL             No          Yes               No   \n",
       "1  5575-GNVDE             DSL            Yes           No              Yes   \n",
       "2  3668-QPYBK             DSL            Yes          Yes               No   \n",
       "3  7795-CFOCW             DSL            Yes           No              Yes   \n",
       "4  9237-HQITU     Fiber optic             No           No               No   \n",
       "\n",
       "  TechSupport StreamingTV StreamingMovies  \n",
       "0          No          No              No  \n",
       "1          No          No              No  \n",
       "2          No          No              No  \n",
       "3         Yes          No              No  \n",
       "4          No          No              No  "
      ]
     },
     "metadata": {},
     "output_type": "display_data"
    },
    {
     "name": "stdout",
     "output_type": "stream",
     "text": [
      "<class 'pandas.core.frame.DataFrame'>\n",
      "RangeIndex: 5517 entries, 0 to 5516\n",
      "Data columns (total 8 columns):\n",
      " #   Column            Non-Null Count  Dtype \n",
      "---  ------            --------------  ----- \n",
      " 0   customerID        5517 non-null   object\n",
      " 1   InternetService   5517 non-null   object\n",
      " 2   OnlineSecurity    5517 non-null   object\n",
      " 3   OnlineBackup      5517 non-null   object\n",
      " 4   DeviceProtection  5517 non-null   object\n",
      " 5   TechSupport       5517 non-null   object\n",
      " 6   StreamingTV       5517 non-null   object\n",
      " 7   StreamingMovies   5517 non-null   object\n",
      "dtypes: object(8)\n",
      "memory usage: 344.9+ KB\n"
     ]
    },
    {
     "data": {
      "text/html": [
       "<div>\n",
       "<style scoped>\n",
       "    .dataframe tbody tr th:only-of-type {\n",
       "        vertical-align: middle;\n",
       "    }\n",
       "\n",
       "    .dataframe tbody tr th {\n",
       "        vertical-align: top;\n",
       "    }\n",
       "\n",
       "    .dataframe thead th {\n",
       "        text-align: right;\n",
       "    }\n",
       "</style>\n",
       "<table border=\"1\" class=\"dataframe\">\n",
       "  <thead>\n",
       "    <tr style=\"text-align: right;\">\n",
       "      <th></th>\n",
       "      <th>customerID</th>\n",
       "      <th>InternetService</th>\n",
       "      <th>OnlineSecurity</th>\n",
       "      <th>OnlineBackup</th>\n",
       "      <th>DeviceProtection</th>\n",
       "      <th>TechSupport</th>\n",
       "      <th>StreamingTV</th>\n",
       "      <th>StreamingMovies</th>\n",
       "    </tr>\n",
       "  </thead>\n",
       "  <tbody>\n",
       "    <tr>\n",
       "      <th>count</th>\n",
       "      <td>5517</td>\n",
       "      <td>5517</td>\n",
       "      <td>5517</td>\n",
       "      <td>5517</td>\n",
       "      <td>5517</td>\n",
       "      <td>5517</td>\n",
       "      <td>5517</td>\n",
       "      <td>5517</td>\n",
       "    </tr>\n",
       "    <tr>\n",
       "      <th>unique</th>\n",
       "      <td>5517</td>\n",
       "      <td>2</td>\n",
       "      <td>2</td>\n",
       "      <td>2</td>\n",
       "      <td>2</td>\n",
       "      <td>2</td>\n",
       "      <td>2</td>\n",
       "      <td>2</td>\n",
       "    </tr>\n",
       "    <tr>\n",
       "      <th>top</th>\n",
       "      <td>7590-VHVEG</td>\n",
       "      <td>Fiber optic</td>\n",
       "      <td>No</td>\n",
       "      <td>No</td>\n",
       "      <td>No</td>\n",
       "      <td>No</td>\n",
       "      <td>No</td>\n",
       "      <td>No</td>\n",
       "    </tr>\n",
       "    <tr>\n",
       "      <th>freq</th>\n",
       "      <td>1</td>\n",
       "      <td>3096</td>\n",
       "      <td>3498</td>\n",
       "      <td>3088</td>\n",
       "      <td>3095</td>\n",
       "      <td>3473</td>\n",
       "      <td>2810</td>\n",
       "      <td>2785</td>\n",
       "    </tr>\n",
       "  </tbody>\n",
       "</table>\n",
       "</div>"
      ],
      "text/plain": [
       "        customerID InternetService OnlineSecurity OnlineBackup  \\\n",
       "count         5517            5517           5517         5517   \n",
       "unique        5517               2              2            2   \n",
       "top     7590-VHVEG     Fiber optic             No           No   \n",
       "freq             1            3096           3498         3088   \n",
       "\n",
       "       DeviceProtection TechSupport StreamingTV StreamingMovies  \n",
       "count              5517        5517        5517            5517  \n",
       "unique                2           2           2               2  \n",
       "top                  No          No          No              No  \n",
       "freq               3095        3473        2810            2785  "
      ]
     },
     "execution_count": 11,
     "metadata": {},
     "output_type": "execute_result"
    }
   ],
   "source": [
    "display(internet.head())\n",
    "internet.info()\n",
    "internet.describe()"
   ]
  },
  {
   "cell_type": "code",
   "execution_count": 12,
   "id": "4e56b94d",
   "metadata": {},
   "outputs": [
    {
     "name": "stdout",
     "output_type": "stream",
     "text": [
      "Количество дубликатов: 0\n",
      "Количество уникальных пользователей: 5517\n"
     ]
    }
   ],
   "source": [
    "print('Количество дубликатов:', internet.duplicated().sum())\n",
    "print('Количество уникальных пользователей:', len(internet['customerID'].unique()))"
   ]
  },
  {
   "cell_type": "markdown",
   "id": "da4a9b2b",
   "metadata": {},
   "source": [
    "В данных нет дубликатов, все представленные пользователи - уникальны.<div> Но данных всего 5517 -  меньше чем кол-во пользователей в данных о договоре - это означает, что почти 20% пользователей не пользуются интернет услугами."
   ]
  },
  {
   "cell_type": "markdown",
   "id": "32b283ea",
   "metadata": {},
   "source": [
    "**Данные о персональных данных**"
   ]
  },
  {
   "cell_type": "code",
   "execution_count": 13,
   "id": "03b29372",
   "metadata": {},
   "outputs": [
    {
     "data": {
      "text/html": [
       "<div>\n",
       "<style scoped>\n",
       "    .dataframe tbody tr th:only-of-type {\n",
       "        vertical-align: middle;\n",
       "    }\n",
       "\n",
       "    .dataframe tbody tr th {\n",
       "        vertical-align: top;\n",
       "    }\n",
       "\n",
       "    .dataframe thead th {\n",
       "        text-align: right;\n",
       "    }\n",
       "</style>\n",
       "<table border=\"1\" class=\"dataframe\">\n",
       "  <thead>\n",
       "    <tr style=\"text-align: right;\">\n",
       "      <th></th>\n",
       "      <th>customerID</th>\n",
       "      <th>gender</th>\n",
       "      <th>SeniorCitizen</th>\n",
       "      <th>Partner</th>\n",
       "      <th>Dependents</th>\n",
       "    </tr>\n",
       "  </thead>\n",
       "  <tbody>\n",
       "    <tr>\n",
       "      <th>0</th>\n",
       "      <td>7590-VHVEG</td>\n",
       "      <td>Female</td>\n",
       "      <td>0</td>\n",
       "      <td>Yes</td>\n",
       "      <td>No</td>\n",
       "    </tr>\n",
       "    <tr>\n",
       "      <th>1</th>\n",
       "      <td>5575-GNVDE</td>\n",
       "      <td>Male</td>\n",
       "      <td>0</td>\n",
       "      <td>No</td>\n",
       "      <td>No</td>\n",
       "    </tr>\n",
       "    <tr>\n",
       "      <th>2</th>\n",
       "      <td>3668-QPYBK</td>\n",
       "      <td>Male</td>\n",
       "      <td>0</td>\n",
       "      <td>No</td>\n",
       "      <td>No</td>\n",
       "    </tr>\n",
       "    <tr>\n",
       "      <th>3</th>\n",
       "      <td>7795-CFOCW</td>\n",
       "      <td>Male</td>\n",
       "      <td>0</td>\n",
       "      <td>No</td>\n",
       "      <td>No</td>\n",
       "    </tr>\n",
       "    <tr>\n",
       "      <th>4</th>\n",
       "      <td>9237-HQITU</td>\n",
       "      <td>Female</td>\n",
       "      <td>0</td>\n",
       "      <td>No</td>\n",
       "      <td>No</td>\n",
       "    </tr>\n",
       "  </tbody>\n",
       "</table>\n",
       "</div>"
      ],
      "text/plain": [
       "   customerID  gender  SeniorCitizen Partner Dependents\n",
       "0  7590-VHVEG  Female              0     Yes         No\n",
       "1  5575-GNVDE    Male              0      No         No\n",
       "2  3668-QPYBK    Male              0      No         No\n",
       "3  7795-CFOCW    Male              0      No         No\n",
       "4  9237-HQITU  Female              0      No         No"
      ]
     },
     "metadata": {},
     "output_type": "display_data"
    },
    {
     "name": "stdout",
     "output_type": "stream",
     "text": [
      "<class 'pandas.core.frame.DataFrame'>\n",
      "RangeIndex: 7043 entries, 0 to 7042\n",
      "Data columns (total 5 columns):\n",
      " #   Column         Non-Null Count  Dtype \n",
      "---  ------         --------------  ----- \n",
      " 0   customerID     7043 non-null   object\n",
      " 1   gender         7043 non-null   object\n",
      " 2   SeniorCitizen  7043 non-null   int64 \n",
      " 3   Partner        7043 non-null   object\n",
      " 4   Dependents     7043 non-null   object\n",
      "dtypes: int64(1), object(4)\n",
      "memory usage: 275.2+ KB\n"
     ]
    },
    {
     "data": {
      "text/html": [
       "<div>\n",
       "<style scoped>\n",
       "    .dataframe tbody tr th:only-of-type {\n",
       "        vertical-align: middle;\n",
       "    }\n",
       "\n",
       "    .dataframe tbody tr th {\n",
       "        vertical-align: top;\n",
       "    }\n",
       "\n",
       "    .dataframe thead th {\n",
       "        text-align: right;\n",
       "    }\n",
       "</style>\n",
       "<table border=\"1\" class=\"dataframe\">\n",
       "  <thead>\n",
       "    <tr style=\"text-align: right;\">\n",
       "      <th></th>\n",
       "      <th>SeniorCitizen</th>\n",
       "    </tr>\n",
       "  </thead>\n",
       "  <tbody>\n",
       "    <tr>\n",
       "      <th>count</th>\n",
       "      <td>7043.000000</td>\n",
       "    </tr>\n",
       "    <tr>\n",
       "      <th>mean</th>\n",
       "      <td>0.162147</td>\n",
       "    </tr>\n",
       "    <tr>\n",
       "      <th>std</th>\n",
       "      <td>0.368612</td>\n",
       "    </tr>\n",
       "    <tr>\n",
       "      <th>min</th>\n",
       "      <td>0.000000</td>\n",
       "    </tr>\n",
       "    <tr>\n",
       "      <th>25%</th>\n",
       "      <td>0.000000</td>\n",
       "    </tr>\n",
       "    <tr>\n",
       "      <th>50%</th>\n",
       "      <td>0.000000</td>\n",
       "    </tr>\n",
       "    <tr>\n",
       "      <th>75%</th>\n",
       "      <td>0.000000</td>\n",
       "    </tr>\n",
       "    <tr>\n",
       "      <th>max</th>\n",
       "      <td>1.000000</td>\n",
       "    </tr>\n",
       "  </tbody>\n",
       "</table>\n",
       "</div>"
      ],
      "text/plain": [
       "       SeniorCitizen\n",
       "count    7043.000000\n",
       "mean        0.162147\n",
       "std         0.368612\n",
       "min         0.000000\n",
       "25%         0.000000\n",
       "50%         0.000000\n",
       "75%         0.000000\n",
       "max         1.000000"
      ]
     },
     "execution_count": 13,
     "metadata": {},
     "output_type": "execute_result"
    }
   ],
   "source": [
    "display(personal.head())\n",
    "personal.info()\n",
    "personal.describe()"
   ]
  },
  {
   "cell_type": "code",
   "execution_count": 14,
   "id": "206c6455",
   "metadata": {},
   "outputs": [
    {
     "name": "stdout",
     "output_type": "stream",
     "text": [
      "Количество дубликатов: 0\n",
      "Количество уникальных пользователей: 7043\n"
     ]
    }
   ],
   "source": [
    "print('Количество дубликатов:', personal.duplicated().sum())\n",
    "print('Количество уникальных пользователей:', len(personal['customerID'].unique()))"
   ]
  },
  {
   "cell_type": "markdown",
   "id": "240c511a",
   "metadata": {},
   "source": [
    "В данных нет дубликатов, все представленные пользователи - уникальны.<div> Данных на 11 больше, чем в информации о договорах, но вспомним, что мы удалили пустые значения. Будем учитывать это при объединении "
   ]
  },
  {
   "cell_type": "markdown",
   "id": "a628d36b",
   "metadata": {},
   "source": [
    "**Данные об услугах телефонии**"
   ]
  },
  {
   "cell_type": "code",
   "execution_count": 15,
   "id": "2ee2e06a",
   "metadata": {},
   "outputs": [
    {
     "data": {
      "text/html": [
       "<div>\n",
       "<style scoped>\n",
       "    .dataframe tbody tr th:only-of-type {\n",
       "        vertical-align: middle;\n",
       "    }\n",
       "\n",
       "    .dataframe tbody tr th {\n",
       "        vertical-align: top;\n",
       "    }\n",
       "\n",
       "    .dataframe thead th {\n",
       "        text-align: right;\n",
       "    }\n",
       "</style>\n",
       "<table border=\"1\" class=\"dataframe\">\n",
       "  <thead>\n",
       "    <tr style=\"text-align: right;\">\n",
       "      <th></th>\n",
       "      <th>customerID</th>\n",
       "      <th>MultipleLines</th>\n",
       "    </tr>\n",
       "  </thead>\n",
       "  <tbody>\n",
       "    <tr>\n",
       "      <th>0</th>\n",
       "      <td>5575-GNVDE</td>\n",
       "      <td>No</td>\n",
       "    </tr>\n",
       "    <tr>\n",
       "      <th>1</th>\n",
       "      <td>3668-QPYBK</td>\n",
       "      <td>No</td>\n",
       "    </tr>\n",
       "    <tr>\n",
       "      <th>2</th>\n",
       "      <td>9237-HQITU</td>\n",
       "      <td>No</td>\n",
       "    </tr>\n",
       "    <tr>\n",
       "      <th>3</th>\n",
       "      <td>9305-CDSKC</td>\n",
       "      <td>Yes</td>\n",
       "    </tr>\n",
       "    <tr>\n",
       "      <th>4</th>\n",
       "      <td>1452-KIOVK</td>\n",
       "      <td>Yes</td>\n",
       "    </tr>\n",
       "  </tbody>\n",
       "</table>\n",
       "</div>"
      ],
      "text/plain": [
       "   customerID MultipleLines\n",
       "0  5575-GNVDE            No\n",
       "1  3668-QPYBK            No\n",
       "2  9237-HQITU            No\n",
       "3  9305-CDSKC           Yes\n",
       "4  1452-KIOVK           Yes"
      ]
     },
     "metadata": {},
     "output_type": "display_data"
    },
    {
     "name": "stdout",
     "output_type": "stream",
     "text": [
      "<class 'pandas.core.frame.DataFrame'>\n",
      "RangeIndex: 6361 entries, 0 to 6360\n",
      "Data columns (total 2 columns):\n",
      " #   Column         Non-Null Count  Dtype \n",
      "---  ------         --------------  ----- \n",
      " 0   customerID     6361 non-null   object\n",
      " 1   MultipleLines  6361 non-null   object\n",
      "dtypes: object(2)\n",
      "memory usage: 99.5+ KB\n"
     ]
    },
    {
     "data": {
      "text/html": [
       "<div>\n",
       "<style scoped>\n",
       "    .dataframe tbody tr th:only-of-type {\n",
       "        vertical-align: middle;\n",
       "    }\n",
       "\n",
       "    .dataframe tbody tr th {\n",
       "        vertical-align: top;\n",
       "    }\n",
       "\n",
       "    .dataframe thead th {\n",
       "        text-align: right;\n",
       "    }\n",
       "</style>\n",
       "<table border=\"1\" class=\"dataframe\">\n",
       "  <thead>\n",
       "    <tr style=\"text-align: right;\">\n",
       "      <th></th>\n",
       "      <th>customerID</th>\n",
       "      <th>MultipleLines</th>\n",
       "    </tr>\n",
       "  </thead>\n",
       "  <tbody>\n",
       "    <tr>\n",
       "      <th>count</th>\n",
       "      <td>6361</td>\n",
       "      <td>6361</td>\n",
       "    </tr>\n",
       "    <tr>\n",
       "      <th>unique</th>\n",
       "      <td>6361</td>\n",
       "      <td>2</td>\n",
       "    </tr>\n",
       "    <tr>\n",
       "      <th>top</th>\n",
       "      <td>5575-GNVDE</td>\n",
       "      <td>No</td>\n",
       "    </tr>\n",
       "    <tr>\n",
       "      <th>freq</th>\n",
       "      <td>1</td>\n",
       "      <td>3390</td>\n",
       "    </tr>\n",
       "  </tbody>\n",
       "</table>\n",
       "</div>"
      ],
      "text/plain": [
       "        customerID MultipleLines\n",
       "count         6361          6361\n",
       "unique        6361             2\n",
       "top     5575-GNVDE            No\n",
       "freq             1          3390"
      ]
     },
     "execution_count": 15,
     "metadata": {},
     "output_type": "execute_result"
    }
   ],
   "source": [
    "display(phone.head())\n",
    "phone.info()\n",
    "phone.describe()"
   ]
  },
  {
   "cell_type": "code",
   "execution_count": 16,
   "id": "639b7750",
   "metadata": {},
   "outputs": [
    {
     "name": "stdout",
     "output_type": "stream",
     "text": [
      "Количество дубликатов: 0\n",
      "Количество уникальных пользователей: 6361\n"
     ]
    }
   ],
   "source": [
    "print('Количество дубликатов:', phone.duplicated().sum())\n",
    "print('Количество уникальных пользователей:', len(phone['customerID'].unique()))"
   ]
  },
  {
   "cell_type": "markdown",
   "id": "f6c79725",
   "metadata": {},
   "source": [
    "В данных нет дубликатов, все представленные пользователи - уникальны.<div> Но данных всего 6361 -  меньше чем кол-во пользователей в данных о договоре - это означает, что почти 10% пользователей не пользуются услугами телефонии."
   ]
  },
  {
   "cell_type": "markdown",
   "id": "8aac4d9d",
   "metadata": {},
   "source": [
    "Пропуски в столбце TotalCharges удалены, тк их всего 11 шт, добавлен столбец СlientGroup с целевым признаком и столбец с дополнительным признаком Lifitime - время жизни клиента."
   ]
  },
  {
   "cell_type": "markdown",
   "id": "ee05da57",
   "metadata": {},
   "source": [
    "**Объединение данных**"
   ]
  },
  {
   "cell_type": "markdown",
   "id": "7c19d4ff",
   "metadata": {},
   "source": [
    "Сначала объединим персональные данные и данные о контрактах. Изначально в обоих файлах было 7043 записей, но мы удалили 11 записей из данных о контрактах. Поэтому после объединения, удалим пропуски в общем файле."
   ]
  },
  {
   "cell_type": "code",
   "execution_count": 17,
   "id": "98d08582",
   "metadata": {},
   "outputs": [
    {
     "data": {
      "text/html": [
       "<div>\n",
       "<style scoped>\n",
       "    .dataframe tbody tr th:only-of-type {\n",
       "        vertical-align: middle;\n",
       "    }\n",
       "\n",
       "    .dataframe tbody tr th {\n",
       "        vertical-align: top;\n",
       "    }\n",
       "\n",
       "    .dataframe thead th {\n",
       "        text-align: right;\n",
       "    }\n",
       "</style>\n",
       "<table border=\"1\" class=\"dataframe\">\n",
       "  <thead>\n",
       "    <tr style=\"text-align: right;\">\n",
       "      <th></th>\n",
       "      <th>customerID</th>\n",
       "      <th>gender</th>\n",
       "      <th>SeniorCitizen</th>\n",
       "      <th>Partner</th>\n",
       "      <th>Dependents</th>\n",
       "      <th>BeginDate</th>\n",
       "      <th>EndDate</th>\n",
       "      <th>Type</th>\n",
       "      <th>PaperlessBilling</th>\n",
       "      <th>PaymentMethod</th>\n",
       "      <th>MonthlyCharges</th>\n",
       "      <th>TotalCharges</th>\n",
       "      <th>СlientGroup</th>\n",
       "      <th>Lifetime</th>\n",
       "    </tr>\n",
       "  </thead>\n",
       "  <tbody>\n",
       "    <tr>\n",
       "      <th>0</th>\n",
       "      <td>7590-VHVEG</td>\n",
       "      <td>Female</td>\n",
       "      <td>0</td>\n",
       "      <td>Yes</td>\n",
       "      <td>No</td>\n",
       "      <td>2020-01-01</td>\n",
       "      <td>No</td>\n",
       "      <td>Month-to-month</td>\n",
       "      <td>Yes</td>\n",
       "      <td>Electronic check</td>\n",
       "      <td>29.85</td>\n",
       "      <td>29.85</td>\n",
       "      <td>0.0</td>\n",
       "      <td>31.0</td>\n",
       "    </tr>\n",
       "    <tr>\n",
       "      <th>1</th>\n",
       "      <td>5575-GNVDE</td>\n",
       "      <td>Male</td>\n",
       "      <td>0</td>\n",
       "      <td>No</td>\n",
       "      <td>No</td>\n",
       "      <td>2017-04-01</td>\n",
       "      <td>No</td>\n",
       "      <td>One year</td>\n",
       "      <td>No</td>\n",
       "      <td>Mailed check</td>\n",
       "      <td>56.95</td>\n",
       "      <td>1889.50</td>\n",
       "      <td>0.0</td>\n",
       "      <td>1036.0</td>\n",
       "    </tr>\n",
       "    <tr>\n",
       "      <th>2</th>\n",
       "      <td>3668-QPYBK</td>\n",
       "      <td>Male</td>\n",
       "      <td>0</td>\n",
       "      <td>No</td>\n",
       "      <td>No</td>\n",
       "      <td>2019-10-01</td>\n",
       "      <td>2019-12-01 00:00:00</td>\n",
       "      <td>Month-to-month</td>\n",
       "      <td>Yes</td>\n",
       "      <td>Mailed check</td>\n",
       "      <td>53.85</td>\n",
       "      <td>108.15</td>\n",
       "      <td>1.0</td>\n",
       "      <td>61.0</td>\n",
       "    </tr>\n",
       "    <tr>\n",
       "      <th>3</th>\n",
       "      <td>7795-CFOCW</td>\n",
       "      <td>Male</td>\n",
       "      <td>0</td>\n",
       "      <td>No</td>\n",
       "      <td>No</td>\n",
       "      <td>2016-05-01</td>\n",
       "      <td>No</td>\n",
       "      <td>One year</td>\n",
       "      <td>No</td>\n",
       "      <td>Bank transfer (automatic)</td>\n",
       "      <td>42.30</td>\n",
       "      <td>1840.75</td>\n",
       "      <td>0.0</td>\n",
       "      <td>1371.0</td>\n",
       "    </tr>\n",
       "    <tr>\n",
       "      <th>4</th>\n",
       "      <td>9237-HQITU</td>\n",
       "      <td>Female</td>\n",
       "      <td>0</td>\n",
       "      <td>No</td>\n",
       "      <td>No</td>\n",
       "      <td>2019-09-01</td>\n",
       "      <td>2019-11-01 00:00:00</td>\n",
       "      <td>Month-to-month</td>\n",
       "      <td>Yes</td>\n",
       "      <td>Electronic check</td>\n",
       "      <td>70.70</td>\n",
       "      <td>151.65</td>\n",
       "      <td>1.0</td>\n",
       "      <td>61.0</td>\n",
       "    </tr>\n",
       "  </tbody>\n",
       "</table>\n",
       "</div>"
      ],
      "text/plain": [
       "   customerID  gender  SeniorCitizen Partner Dependents  BeginDate  \\\n",
       "0  7590-VHVEG  Female              0     Yes         No 2020-01-01   \n",
       "1  5575-GNVDE    Male              0      No         No 2017-04-01   \n",
       "2  3668-QPYBK    Male              0      No         No 2019-10-01   \n",
       "3  7795-CFOCW    Male              0      No         No 2016-05-01   \n",
       "4  9237-HQITU  Female              0      No         No 2019-09-01   \n",
       "\n",
       "               EndDate            Type PaperlessBilling  \\\n",
       "0                   No  Month-to-month              Yes   \n",
       "1                   No        One year               No   \n",
       "2  2019-12-01 00:00:00  Month-to-month              Yes   \n",
       "3                   No        One year               No   \n",
       "4  2019-11-01 00:00:00  Month-to-month              Yes   \n",
       "\n",
       "               PaymentMethod  MonthlyCharges  TotalCharges  СlientGroup  \\\n",
       "0           Electronic check           29.85         29.85          0.0   \n",
       "1               Mailed check           56.95       1889.50          0.0   \n",
       "2               Mailed check           53.85        108.15          1.0   \n",
       "3  Bank transfer (automatic)           42.30       1840.75          0.0   \n",
       "4           Electronic check           70.70        151.65          1.0   \n",
       "\n",
       "   Lifetime  \n",
       "0      31.0  \n",
       "1    1036.0  \n",
       "2      61.0  \n",
       "3    1371.0  \n",
       "4      61.0  "
      ]
     },
     "metadata": {},
     "output_type": "display_data"
    },
    {
     "name": "stdout",
     "output_type": "stream",
     "text": [
      "<class 'pandas.core.frame.DataFrame'>\n",
      "Int64Index: 7032 entries, 0 to 7042\n",
      "Data columns (total 14 columns):\n",
      " #   Column            Non-Null Count  Dtype         \n",
      "---  ------            --------------  -----         \n",
      " 0   customerID        7032 non-null   object        \n",
      " 1   gender            7032 non-null   object        \n",
      " 2   SeniorCitizen     7032 non-null   int64         \n",
      " 3   Partner           7032 non-null   object        \n",
      " 4   Dependents        7032 non-null   object        \n",
      " 5   BeginDate         7032 non-null   datetime64[ns]\n",
      " 6   EndDate           7032 non-null   object        \n",
      " 7   Type              7032 non-null   object        \n",
      " 8   PaperlessBilling  7032 non-null   object        \n",
      " 9   PaymentMethod     7032 non-null   object        \n",
      " 10  MonthlyCharges    7032 non-null   float64       \n",
      " 11  TotalCharges      7032 non-null   float64       \n",
      " 12  СlientGroup       7032 non-null   float64       \n",
      " 13  Lifetime          7032 non-null   float64       \n",
      "dtypes: datetime64[ns](1), float64(4), int64(1), object(8)\n",
      "memory usage: 824.1+ KB\n"
     ]
    }
   ],
   "source": [
    "full = pd.merge(personal, contract, on ='customerID',how= 'left')\n",
    "full=full.dropna()\n",
    "display(full.head())\n",
    "full.info()"
   ]
  },
  {
   "cell_type": "code",
   "execution_count": 18,
   "id": "5876cbd6",
   "metadata": {},
   "outputs": [
    {
     "name": "stdout",
     "output_type": "stream",
     "text": [
      "<class 'pandas.core.frame.DataFrame'>\n",
      "Int64Index: 7032 entries, 0 to 7031\n",
      "Data columns (total 22 columns):\n",
      " #   Column            Non-Null Count  Dtype         \n",
      "---  ------            --------------  -----         \n",
      " 0   customerID        7032 non-null   object        \n",
      " 1   gender            7032 non-null   object        \n",
      " 2   SeniorCitizen     7032 non-null   int64         \n",
      " 3   Partner           7032 non-null   object        \n",
      " 4   Dependents        7032 non-null   object        \n",
      " 5   BeginDate         7032 non-null   datetime64[ns]\n",
      " 6   EndDate           7032 non-null   object        \n",
      " 7   Type              7032 non-null   object        \n",
      " 8   PaperlessBilling  7032 non-null   object        \n",
      " 9   PaymentMethod     7032 non-null   object        \n",
      " 10  MonthlyCharges    7032 non-null   float64       \n",
      " 11  TotalCharges      7032 non-null   float64       \n",
      " 12  СlientGroup       7032 non-null   float64       \n",
      " 13  Lifetime          7032 non-null   float64       \n",
      " 14  MultipleLines     6352 non-null   object        \n",
      " 15  InternetService   5512 non-null   object        \n",
      " 16  OnlineSecurity    5512 non-null   object        \n",
      " 17  OnlineBackup      5512 non-null   object        \n",
      " 18  DeviceProtection  5512 non-null   object        \n",
      " 19  TechSupport       5512 non-null   object        \n",
      " 20  StreamingTV       5512 non-null   object        \n",
      " 21  StreamingMovies   5512 non-null   object        \n",
      "dtypes: datetime64[ns](1), float64(4), int64(1), object(16)\n",
      "memory usage: 1.2+ MB\n"
     ]
    }
   ],
   "source": [
    "#Теперь объединим с остальными данными, где было записей меньше чем 7043\n",
    "full = pd.merge(full, phone, on ='customerID',how= 'left')\n",
    "full = pd.merge(full, internet, on ='customerID',how= 'left')\n",
    "full.info()"
   ]
  },
  {
   "cell_type": "markdown",
   "id": "3c847a54",
   "metadata": {},
   "source": [
    "Проверим, нет ли пользователей, которые не пользуются услугами интернета и телефонии одновременно (делаем это, потому что в этих данных пользователей отмечено меньше, чем в общей информации о заключенных договорах) "
   ]
  },
  {
   "cell_type": "code",
   "execution_count": 19,
   "id": "c1068934",
   "metadata": {},
   "outputs": [
    {
     "data": {
      "text/html": [
       "<div>\n",
       "<style scoped>\n",
       "    .dataframe tbody tr th:only-of-type {\n",
       "        vertical-align: middle;\n",
       "    }\n",
       "\n",
       "    .dataframe tbody tr th {\n",
       "        vertical-align: top;\n",
       "    }\n",
       "\n",
       "    .dataframe thead th {\n",
       "        text-align: right;\n",
       "    }\n",
       "</style>\n",
       "<table border=\"1\" class=\"dataframe\">\n",
       "  <thead>\n",
       "    <tr style=\"text-align: right;\">\n",
       "      <th></th>\n",
       "      <th>customerID</th>\n",
       "      <th>gender</th>\n",
       "      <th>SeniorCitizen</th>\n",
       "      <th>Partner</th>\n",
       "      <th>Dependents</th>\n",
       "      <th>BeginDate</th>\n",
       "      <th>EndDate</th>\n",
       "      <th>Type</th>\n",
       "      <th>PaperlessBilling</th>\n",
       "      <th>PaymentMethod</th>\n",
       "      <th>MonthlyCharges</th>\n",
       "      <th>TotalCharges</th>\n",
       "      <th>СlientGroup</th>\n",
       "      <th>Lifetime</th>\n",
       "      <th>MultipleLines</th>\n",
       "      <th>InternetService</th>\n",
       "      <th>OnlineSecurity</th>\n",
       "      <th>OnlineBackup</th>\n",
       "      <th>DeviceProtection</th>\n",
       "      <th>TechSupport</th>\n",
       "      <th>StreamingTV</th>\n",
       "      <th>StreamingMovies</th>\n",
       "    </tr>\n",
       "  </thead>\n",
       "  <tbody>\n",
       "  </tbody>\n",
       "</table>\n",
       "</div>"
      ],
      "text/plain": [
       "Empty DataFrame\n",
       "Columns: [customerID, gender, SeniorCitizen, Partner, Dependents, BeginDate, EndDate, Type, PaperlessBilling, PaymentMethod, MonthlyCharges, TotalCharges, СlientGroup, Lifetime, MultipleLines, InternetService, OnlineSecurity, OnlineBackup, DeviceProtection, TechSupport, StreamingTV, StreamingMovies]\n",
       "Index: []"
      ]
     },
     "metadata": {},
     "output_type": "display_data"
    }
   ],
   "source": [
    "display(full[(full['MultipleLines'].isna())&(full['InternetService'].isna())])"
   ]
  },
  {
   "cell_type": "markdown",
   "id": "e2fbedfe",
   "metadata": {},
   "source": [
    "Таких нет, поэтому заменим пропуски на *Do not use* - не пользуется. Так же поменяем тип у колонок СlientGroup и Lifitime на целочисленный."
   ]
  },
  {
   "cell_type": "code",
   "execution_count": 20,
   "id": "3cbf4a0f",
   "metadata": {},
   "outputs": [
    {
     "name": "stdout",
     "output_type": "stream",
     "text": [
      "<class 'pandas.core.frame.DataFrame'>\n",
      "Int64Index: 7032 entries, 0 to 7031\n",
      "Data columns (total 22 columns):\n",
      " #   Column            Non-Null Count  Dtype         \n",
      "---  ------            --------------  -----         \n",
      " 0   customerID        7032 non-null   object        \n",
      " 1   gender            7032 non-null   object        \n",
      " 2   SeniorCitizen     7032 non-null   int64         \n",
      " 3   Partner           7032 non-null   object        \n",
      " 4   Dependents        7032 non-null   object        \n",
      " 5   BeginDate         7032 non-null   datetime64[ns]\n",
      " 6   EndDate           7032 non-null   object        \n",
      " 7   Type              7032 non-null   object        \n",
      " 8   PaperlessBilling  7032 non-null   object        \n",
      " 9   PaymentMethod     7032 non-null   object        \n",
      " 10  MonthlyCharges    7032 non-null   float64       \n",
      " 11  TotalCharges      7032 non-null   float64       \n",
      " 12  СlientGroup       7032 non-null   int64         \n",
      " 13  Lifetime          7032 non-null   int64         \n",
      " 14  MultipleLines     7032 non-null   object        \n",
      " 15  InternetService   7032 non-null   object        \n",
      " 16  OnlineSecurity    7032 non-null   object        \n",
      " 17  OnlineBackup      7032 non-null   object        \n",
      " 18  DeviceProtection  7032 non-null   object        \n",
      " 19  TechSupport       7032 non-null   object        \n",
      " 20  StreamingTV       7032 non-null   object        \n",
      " 21  StreamingMovies   7032 non-null   object        \n",
      "dtypes: datetime64[ns](1), float64(2), int64(3), object(16)\n",
      "memory usage: 1.2+ MB\n"
     ]
    }
   ],
   "source": [
    "full[['MultipleLines','InternetService','OnlineSecurity','OnlineBackup','DeviceProtection','TechSupport',\n",
    "         'StreamingTV', 'StreamingMovies']]=full[['MultipleLines','InternetService','OnlineSecurity',\n",
    "        'OnlineBackup','DeviceProtection','TechSupport','StreamingTV', 'StreamingMovies']].fillna('Do not use')\n",
    "full[['СlientGroup', 'Lifetime']]=full[['СlientGroup', 'Lifetime']].astype('int64')\n",
    "full.info()"
   ]
  },
  {
   "cell_type": "code",
   "execution_count": 21,
   "id": "3e778383",
   "metadata": {},
   "outputs": [
    {
     "name": "stdout",
     "output_type": "stream",
     "text": [
      "Количество дубликатов: 0\n"
     ]
    }
   ],
   "source": [
    "print('Количество дубликатов:', full.duplicated().sum())"
   ]
  },
  {
   "cell_type": "markdown",
   "id": "41e52907",
   "metadata": {},
   "source": [
    "Пропуски обработаны, дубликатов нет. Добавлен один дополнительный признак и создана колонка с целевым признаком. Все данные объединены в одну таблицу."
   ]
  },
  {
   "cell_type": "markdown",
   "id": "54562800",
   "metadata": {},
   "source": [
    "Приведем все заголовки к нижнему регистру для дальнейшего удобства работы с данными "
   ]
  },
  {
   "cell_type": "code",
   "execution_count": 22,
   "id": "c039eebc",
   "metadata": {},
   "outputs": [
    {
     "data": {
      "text/html": [
       "<div>\n",
       "<style scoped>\n",
       "    .dataframe tbody tr th:only-of-type {\n",
       "        vertical-align: middle;\n",
       "    }\n",
       "\n",
       "    .dataframe tbody tr th {\n",
       "        vertical-align: top;\n",
       "    }\n",
       "\n",
       "    .dataframe thead th {\n",
       "        text-align: right;\n",
       "    }\n",
       "</style>\n",
       "<table border=\"1\" class=\"dataframe\">\n",
       "  <thead>\n",
       "    <tr style=\"text-align: right;\">\n",
       "      <th></th>\n",
       "      <th>customerid</th>\n",
       "      <th>gender</th>\n",
       "      <th>seniorcitizen</th>\n",
       "      <th>partner</th>\n",
       "      <th>dependents</th>\n",
       "      <th>begindate</th>\n",
       "      <th>enddate</th>\n",
       "      <th>type</th>\n",
       "      <th>paperlessbilling</th>\n",
       "      <th>paymentmethod</th>\n",
       "      <th>monthlycharges</th>\n",
       "      <th>totalcharges</th>\n",
       "      <th>сlientgroup</th>\n",
       "      <th>lifetime</th>\n",
       "      <th>multiplelines</th>\n",
       "      <th>internetservice</th>\n",
       "      <th>onlinesecurity</th>\n",
       "      <th>onlinebackup</th>\n",
       "      <th>deviceprotection</th>\n",
       "      <th>techsupport</th>\n",
       "      <th>streamingtv</th>\n",
       "      <th>streamingmovies</th>\n",
       "    </tr>\n",
       "  </thead>\n",
       "  <tbody>\n",
       "    <tr>\n",
       "      <th>0</th>\n",
       "      <td>7590-VHVEG</td>\n",
       "      <td>Female</td>\n",
       "      <td>0</td>\n",
       "      <td>Yes</td>\n",
       "      <td>No</td>\n",
       "      <td>2020-01-01</td>\n",
       "      <td>No</td>\n",
       "      <td>Month-to-month</td>\n",
       "      <td>Yes</td>\n",
       "      <td>Electronic check</td>\n",
       "      <td>29.85</td>\n",
       "      <td>29.85</td>\n",
       "      <td>0</td>\n",
       "      <td>31</td>\n",
       "      <td>Do not use</td>\n",
       "      <td>DSL</td>\n",
       "      <td>No</td>\n",
       "      <td>Yes</td>\n",
       "      <td>No</td>\n",
       "      <td>No</td>\n",
       "      <td>No</td>\n",
       "      <td>No</td>\n",
       "    </tr>\n",
       "    <tr>\n",
       "      <th>1</th>\n",
       "      <td>5575-GNVDE</td>\n",
       "      <td>Male</td>\n",
       "      <td>0</td>\n",
       "      <td>No</td>\n",
       "      <td>No</td>\n",
       "      <td>2017-04-01</td>\n",
       "      <td>No</td>\n",
       "      <td>One year</td>\n",
       "      <td>No</td>\n",
       "      <td>Mailed check</td>\n",
       "      <td>56.95</td>\n",
       "      <td>1889.50</td>\n",
       "      <td>0</td>\n",
       "      <td>1036</td>\n",
       "      <td>No</td>\n",
       "      <td>DSL</td>\n",
       "      <td>Yes</td>\n",
       "      <td>No</td>\n",
       "      <td>Yes</td>\n",
       "      <td>No</td>\n",
       "      <td>No</td>\n",
       "      <td>No</td>\n",
       "    </tr>\n",
       "    <tr>\n",
       "      <th>2</th>\n",
       "      <td>3668-QPYBK</td>\n",
       "      <td>Male</td>\n",
       "      <td>0</td>\n",
       "      <td>No</td>\n",
       "      <td>No</td>\n",
       "      <td>2019-10-01</td>\n",
       "      <td>2019-12-01 00:00:00</td>\n",
       "      <td>Month-to-month</td>\n",
       "      <td>Yes</td>\n",
       "      <td>Mailed check</td>\n",
       "      <td>53.85</td>\n",
       "      <td>108.15</td>\n",
       "      <td>1</td>\n",
       "      <td>61</td>\n",
       "      <td>No</td>\n",
       "      <td>DSL</td>\n",
       "      <td>Yes</td>\n",
       "      <td>Yes</td>\n",
       "      <td>No</td>\n",
       "      <td>No</td>\n",
       "      <td>No</td>\n",
       "      <td>No</td>\n",
       "    </tr>\n",
       "    <tr>\n",
       "      <th>3</th>\n",
       "      <td>7795-CFOCW</td>\n",
       "      <td>Male</td>\n",
       "      <td>0</td>\n",
       "      <td>No</td>\n",
       "      <td>No</td>\n",
       "      <td>2016-05-01</td>\n",
       "      <td>No</td>\n",
       "      <td>One year</td>\n",
       "      <td>No</td>\n",
       "      <td>Bank transfer (automatic)</td>\n",
       "      <td>42.30</td>\n",
       "      <td>1840.75</td>\n",
       "      <td>0</td>\n",
       "      <td>1371</td>\n",
       "      <td>Do not use</td>\n",
       "      <td>DSL</td>\n",
       "      <td>Yes</td>\n",
       "      <td>No</td>\n",
       "      <td>Yes</td>\n",
       "      <td>Yes</td>\n",
       "      <td>No</td>\n",
       "      <td>No</td>\n",
       "    </tr>\n",
       "    <tr>\n",
       "      <th>4</th>\n",
       "      <td>9237-HQITU</td>\n",
       "      <td>Female</td>\n",
       "      <td>0</td>\n",
       "      <td>No</td>\n",
       "      <td>No</td>\n",
       "      <td>2019-09-01</td>\n",
       "      <td>2019-11-01 00:00:00</td>\n",
       "      <td>Month-to-month</td>\n",
       "      <td>Yes</td>\n",
       "      <td>Electronic check</td>\n",
       "      <td>70.70</td>\n",
       "      <td>151.65</td>\n",
       "      <td>1</td>\n",
       "      <td>61</td>\n",
       "      <td>No</td>\n",
       "      <td>Fiber optic</td>\n",
       "      <td>No</td>\n",
       "      <td>No</td>\n",
       "      <td>No</td>\n",
       "      <td>No</td>\n",
       "      <td>No</td>\n",
       "      <td>No</td>\n",
       "    </tr>\n",
       "  </tbody>\n",
       "</table>\n",
       "</div>"
      ],
      "text/plain": [
       "   customerid  gender  seniorcitizen partner dependents  begindate  \\\n",
       "0  7590-VHVEG  Female              0     Yes         No 2020-01-01   \n",
       "1  5575-GNVDE    Male              0      No         No 2017-04-01   \n",
       "2  3668-QPYBK    Male              0      No         No 2019-10-01   \n",
       "3  7795-CFOCW    Male              0      No         No 2016-05-01   \n",
       "4  9237-HQITU  Female              0      No         No 2019-09-01   \n",
       "\n",
       "               enddate            type paperlessbilling  \\\n",
       "0                   No  Month-to-month              Yes   \n",
       "1                   No        One year               No   \n",
       "2  2019-12-01 00:00:00  Month-to-month              Yes   \n",
       "3                   No        One year               No   \n",
       "4  2019-11-01 00:00:00  Month-to-month              Yes   \n",
       "\n",
       "               paymentmethod  monthlycharges  totalcharges  сlientgroup  \\\n",
       "0           Electronic check           29.85         29.85            0   \n",
       "1               Mailed check           56.95       1889.50            0   \n",
       "2               Mailed check           53.85        108.15            1   \n",
       "3  Bank transfer (automatic)           42.30       1840.75            0   \n",
       "4           Electronic check           70.70        151.65            1   \n",
       "\n",
       "   lifetime multiplelines internetservice onlinesecurity onlinebackup  \\\n",
       "0        31    Do not use             DSL             No          Yes   \n",
       "1      1036            No             DSL            Yes           No   \n",
       "2        61            No             DSL            Yes          Yes   \n",
       "3      1371    Do not use             DSL            Yes           No   \n",
       "4        61            No     Fiber optic             No           No   \n",
       "\n",
       "  deviceprotection techsupport streamingtv streamingmovies  \n",
       "0               No          No          No              No  \n",
       "1              Yes          No          No              No  \n",
       "2               No          No          No              No  \n",
       "3              Yes         Yes          No              No  \n",
       "4               No          No          No              No  "
      ]
     },
     "execution_count": 22,
     "metadata": {},
     "output_type": "execute_result"
    }
   ],
   "source": [
    "full.columns = full.columns.str.lower()\n",
    "full.head()"
   ]
  },
  {
   "cell_type": "markdown",
   "id": "baa6def6",
   "metadata": {},
   "source": [
    "## 3. Исследовательский анализ данных"
   ]
  },
  {
   "cell_type": "markdown",
   "id": "2267f721",
   "metadata": {},
   "source": [
    "Сформируем выборку по ушедшим клиентам"
   ]
  },
  {
   "cell_type": "code",
   "execution_count": 23,
   "id": "8d6acb41",
   "metadata": {},
   "outputs": [
    {
     "name": "stdout",
     "output_type": "stream",
     "text": [
      "26.578498293515356\n"
     ]
    }
   ],
   "source": [
    "notclient= full[(full['сlientgroup']==1)]\n",
    "notclient.shape\n",
    "print(len(notclient)/len(full)*100)"
   ]
  },
  {
   "cell_type": "code",
   "execution_count": 24,
   "id": "953d2c79",
   "metadata": {},
   "outputs": [
    {
     "data": {
      "text/plain": [
       "(1869, 22)"
      ]
     },
     "execution_count": 24,
     "metadata": {},
     "output_type": "execute_result"
    }
   ],
   "source": [
    "notclient.shape"
   ]
  },
  {
   "cell_type": "markdown",
   "id": "198b5602",
   "metadata": {},
   "source": [
    "Ушло практически 26,5% клиентов - это 1869 пользователей. "
   ]
  },
  {
   "cell_type": "code",
   "execution_count": 25,
   "id": "312128d6",
   "metadata": {},
   "outputs": [],
   "source": [
    "# Напишем функцию для расчета статистических метрик по всем клиентам и по ушедшим клиентам\n",
    "\n",
    "def measures(column):\n",
    "    filtered_full=full[column]\n",
    "    filtered_notclient=notclient[column]\n",
    "    mean_full = filtered_full.mean()\n",
    "    mean_notclient =  filtered_notclient.mean()\n",
    "    median_full = filtered_full.median()\n",
    "    median_notclient =  filtered_notclient.median()\n",
    "    min_full = filtered_full.min()\n",
    "    min_notclient =  filtered_notclient.min()\n",
    "    max_full = filtered_full.max()\n",
    "    max_notclient =  filtered_notclient.max()\n",
    "    q1_full = filtered_full.quantile(0.25)\n",
    "    q3_full = filtered_full.quantile(0.75)\n",
    "    q1_notclient = filtered_notclient.quantile(0.25)\n",
    "    q3_notclient = filtered_notclient.quantile(0.75)\n",
    "    print ('\\033[94m'+column+'\\033[0m')\n",
    "    print('\\033[1m'+'Все клиенты:'+'\\033[0m')  \n",
    "    print('Медиана: {:.0f}'.format(median_full),', Среднее: {:.0f}'.format(mean_full),\n",
    "          ', Минимальное значение: {:.0f}'.format(min_full), ',  Максимальное значение: {:.0f}'.format(max_full),\n",
    "          ', 25% квантиль: {:.0f}'.format(q1_full), ', 75% квантиль: {:.0f}'.format(q3_full))\n",
    "    print ('\\033[1m'+'Ушедшие клиенты:'+'\\033[0m')\n",
    "    print('Медиана: {:.0f}'.format(median_notclient),', Среднее: {:.0f}'.format(mean_notclient),\n",
    "          ', Минимальное значение: {:.0f}'.format(min_notclient), ',  Максимальное значение: {:.0f}'.format(max_notclient),\n",
    "          ', 25% квантиль: {:.0f}'.format(q1_notclient), ', 75% квантиль: {:.0f}'.format(q3_notclient))"
   ]
  },
  {
   "cell_type": "markdown",
   "id": "5ece3535",
   "metadata": {},
   "source": [
    "Посмотрим на метрики по данным о ежемесячных платежах."
   ]
  },
  {
   "cell_type": "code",
   "execution_count": 26,
   "id": "72a813e8",
   "metadata": {},
   "outputs": [
    {
     "name": "stdout",
     "output_type": "stream",
     "text": [
      "\u001b[94mmonthlycharges\u001b[0m\n",
      "\u001b[1mВсе клиенты:\u001b[0m\n",
      "Медиана: 70 , Среднее: 65 , Минимальное значение: 18 ,  Максимальное значение: 119 , 25% квантиль: 36 , 75% квантиль: 90\n",
      "\u001b[1mУшедшие клиенты:\u001b[0m\n",
      "Медиана: 80 , Среднее: 74 , Минимальное значение: 19 ,  Максимальное значение: 118 , 25% квантиль: 56 , 75% квантиль: 94\n"
     ]
    }
   ],
   "source": [
    "measures('monthlycharges')"
   ]
  },
  {
   "cell_type": "markdown",
   "id": "036f8ddc",
   "metadata": {},
   "source": [
    "У ушедших клиентов средний платеж (и медиана) выше, чем в целом у всех клиентов. Максимальное и минимальное значения примерно одинаковые у обеих групп. Большие различия видны в 25% квантилях. В общей выборке четверть клиентов платит ежемесячно меньше 36, а среди ушедших клиентов четверть платит меньше 56."
   ]
  },
  {
   "cell_type": "code",
   "execution_count": 27,
   "id": "0bb2ecd1",
   "metadata": {},
   "outputs": [
    {
     "data": {
      "image/png": "[encoded data removed]",
      "text/plain": [
       "<Figure size 864x432 with 1 Axes>"
      ]
     },
     "metadata": {
      "needs_background": "light"
     },
     "output_type": "display_data"
    }
   ],
   "source": [
    "ax = full.plot(kind='hist', y='monthlycharges', ec='black', bins=30, \n",
    "                              linewidth=1, alpha=0.5, label='Все клиенты', color='g')\n",
    "notclient.plot(kind='hist', y='monthlycharges', ec='black', bins=30,linewidth=1, alpha=0.5, \n",
    "                         label='Ушедшие клиенты', ax=ax, figsize=(12,6),grid=True, legend=True, fontsize = 15, color='b')\n",
    "ax.vlines(70, 0, 600, color= 'g', linestyle ='--',)\n",
    "ax.vlines(80, 0, 600, color= 'b', linestyle ='--',)\n",
    "ax.text(81, 600, '80', fontsize=15, color='b')\n",
    "ax.text(66, 600, '70', fontsize=15, color='g')\n",
    "ax.set_ylabel('Частота значений', fontsize=13)\n",
    "ax.set_xlabel('Ежемесячный платеж', fontsize=13)\n",
    "ax.set_title('Распределение ежемесячных платежей', fontsize=17, fontweight='bold')\n",
    "plt.show()"
   ]
  },
  {
   "cell_type": "markdown",
   "id": "0ed988a3",
   "metadata": {},
   "source": [
    "По графику видно, что среди ушедших клиентов больше всего тех, у кого ежемесячный платеж был в интервале от 70 до 110. Среди всех клиентов очень много тех кто платит в месяц 20. Из этого можно предположить, что большой размер ежемесячного платежа повышает вероятность что клиент уйдет.\n",
    "\n",
    "Но на графике также видно, что клиентов с ежемесячным платежом в 20 уходило больше, чем клиентов с ежемесячным платежом, например, в 60. Т.е. есть еще факторы, влияющие на уход клиента."
   ]
  },
  {
   "cell_type": "code",
   "execution_count": 28,
   "id": "bb82eca6",
   "metadata": {},
   "outputs": [
    {
     "data": {
      "text/html": [
       "<div>\n",
       "<style scoped>\n",
       "    .dataframe tbody tr th:only-of-type {\n",
       "        vertical-align: middle;\n",
       "    }\n",
       "\n",
       "    .dataframe tbody tr th {\n",
       "        vertical-align: top;\n",
       "    }\n",
       "\n",
       "    .dataframe thead th {\n",
       "        text-align: right;\n",
       "    }\n",
       "</style>\n",
       "<table border=\"1\" class=\"dataframe\">\n",
       "  <thead>\n",
       "    <tr style=\"text-align: right;\">\n",
       "      <th></th>\n",
       "      <th>count</th>\n",
       "    </tr>\n",
       "    <tr>\n",
       "      <th>lifetime</th>\n",
       "      <th></th>\n",
       "    </tr>\n",
       "  </thead>\n",
       "  <tbody>\n",
       "    <tr>\n",
       "      <th>31</th>\n",
       "      <td>198</td>\n",
       "    </tr>\n",
       "    <tr>\n",
       "      <th>30</th>\n",
       "      <td>182</td>\n",
       "    </tr>\n",
       "    <tr>\n",
       "      <th>61</th>\n",
       "      <td>123</td>\n",
       "    </tr>\n",
       "    <tr>\n",
       "      <th>153</th>\n",
       "      <td>64</td>\n",
       "    </tr>\n",
       "    <tr>\n",
       "      <th>92</th>\n",
       "      <td>63</td>\n",
       "    </tr>\n",
       "    <tr>\n",
       "      <th>122</th>\n",
       "      <td>58</td>\n",
       "    </tr>\n",
       "    <tr>\n",
       "      <th>214</th>\n",
       "      <td>51</td>\n",
       "    </tr>\n",
       "    <tr>\n",
       "      <th>365</th>\n",
       "      <td>38</td>\n",
       "    </tr>\n",
       "    <tr>\n",
       "      <th>91</th>\n",
       "      <td>31</td>\n",
       "    </tr>\n",
       "    <tr>\n",
       "      <th>273</th>\n",
       "      <td>31</td>\n",
       "    </tr>\n",
       "  </tbody>\n",
       "</table>\n",
       "</div>"
      ],
      "text/plain": [
       "          count\n",
       "lifetime       \n",
       "31          198\n",
       "30          182\n",
       "61          123\n",
       "153          64\n",
       "92           63\n",
       "122          58\n",
       "214          51\n",
       "365          38\n",
       "91           31\n",
       "273          31"
      ]
     },
     "metadata": {},
     "output_type": "display_data"
    }
   ],
   "source": [
    "#посмотрим на время жизни ушедших клиентов\n",
    "notclient_life=notclient.pivot_table(index= 'lifetime', values = 'customerid', aggfunc= 'count')\n",
    "notclient_life.columns=['count']\n",
    "display(notclient_life.sort_values(by='count', ascending= False).head(10))"
   ]
  },
  {
   "cell_type": "markdown",
   "id": "f7508bd3",
   "metadata": {},
   "source": [
    "Больше всего клиентов ушло через 30, 31 и 61 день после подключения, те всего через 1-2 месяца. Эти клиенты могли быть недовольны качеством услуг или соотношением цена-качество, либо у них был пробный период, после которого они нашли провайдера с более интересными для них услугами."
   ]
  },
  {
   "cell_type": "code",
   "execution_count": 29,
   "id": "b8a0c168",
   "metadata": {},
   "outputs": [
    {
     "data": {
      "image/png": "[encoded data removed]",
      "text/plain": [
       "<Figure size 864x432 with 1 Axes>"
      ]
     },
     "metadata": {
      "needs_background": "light"
     },
     "output_type": "display_data"
    }
   ],
   "source": [
    "#рассмотрим на графике\n",
    "\n",
    "notclient_payment=full.pivot_table(index=full.index, values = 'lifetime', columns='сlientgroup').plot.hist(\n",
    "               figsize=(12,6), alpha=0.6, ec='black', grid=True, bins=30)\n",
    "plt.ylabel('Частота значений', fontsize=13)\n",
    "plt.xlabel('Время жизни, дни', fontsize=13)\n",
    "plt.title('Распределение времени жизни ушедших и текущих клиентов', fontsize=17, fontweight='bold')\n",
    "plt.legend(['Текущие клиенты', 'Ушедшие клиенты'])\n",
    "plt.show()"
   ]
  },
  {
   "cell_type": "markdown",
   "id": "4d360fa7",
   "metadata": {},
   "source": [
    "На графике видно что большинство клиентов уходит через непродолжительное время после заключения контракта. Чем дольше длится контракт, тем выше вероятность, что клиент останется."
   ]
  },
  {
   "cell_type": "markdown",
   "id": "8955481d",
   "metadata": {},
   "source": [
    "*Проведем анализ поведения клиентов*"
   ]
  },
  {
   "cell_type": "markdown",
   "id": "02af0157",
   "metadata": {},
   "source": [
    "**Общее количество клиентов**"
   ]
  },
  {
   "cell_type": "code",
   "execution_count": 30,
   "id": "ae4b832a",
   "metadata": {},
   "outputs": [
    {
     "data": {
      "image/png": "[encoded data removed]",
      "text/plain": [
       "<Figure size 432x432 with 1 Axes>"
      ]
     },
     "metadata": {},
     "output_type": "display_data"
    }
   ],
   "source": [
    "full.pivot_table(index='internetservice', values='customerid', \n",
    "                aggfunc = 'count').plot(kind='pie',shadow = True, subplots = True,\n",
    "                fontsize=15,figsize= (6,6), startangle =45,autopct =lambda p: '{:.0f}%'.format(p))\n",
    "plt.legend(loc=1)\n",
    "plt.axis('off')\n",
    "plt.title('Доля интернет пользователей', fontsize=15, fontweight='bold')\n",
    "plt.show()"
   ]
  },
  {
   "cell_type": "code",
   "execution_count": 31,
   "id": "9d15a709",
   "metadata": {},
   "outputs": [
    {
     "data": {
      "text/plain": [
       "array(['Do not use', 'User'], dtype=object)"
      ]
     },
     "execution_count": 31,
     "metadata": {},
     "output_type": "execute_result"
    }
   ],
   "source": [
    "#объединим пользователей телефонной связи с наличием параллельных линий и без в одну группу -  User\n",
    "def phone_user(multiplelines):      \n",
    "    try:\n",
    "        if multiplelines == 'No' or multiplelines == 'Yes':\n",
    "            return 'User'\n",
    "        else:\n",
    "            return 'Do not use'\n",
    "    except:\n",
    "        print('ошибочное значение')\n",
    "full['phone_user'] = full['multiplelines'].apply(phone_user) \n",
    "full['phone_user'].unique()"
   ]
  },
  {
   "cell_type": "code",
   "execution_count": 32,
   "id": "193eb970",
   "metadata": {},
   "outputs": [
    {
     "data": {
      "image/png": "[encoded data removed]",
      "text/plain": [
       "<Figure size 432x432 with 1 Axes>"
      ]
     },
     "metadata": {},
     "output_type": "display_data"
    }
   ],
   "source": [
    "full.pivot_table(index='phone_user', values='customerid', \n",
    "                 aggfunc = 'count').plot(kind='pie',shadow = True, subplots = True,\n",
    "                fontsize=15, figsize= (6,6), startangle =12,autopct =lambda p: '{:.0f}%'.format(p))\n",
    "plt.legend(loc=1)\n",
    "plt.axis('off')\n",
    "plt.title('Доля пользователей телефонной связи', fontsize=15, fontweight='bold')\n",
    "plt.show()"
   ]
  },
  {
   "cell_type": "markdown",
   "id": "1ea6efa5",
   "metadata": {},
   "source": [
    "Среди всех клиентов 10% не пользуется услугами телефонной связи и 22% не пользуются интернетом. Среди пользователей интернета 34% подключаются через телефонную линию (DSL) и немного больше - 44% через оптоволоконный кабель (Fiber optic)."
   ]
  },
  {
   "cell_type": "markdown",
   "id": "685fdcd3",
   "metadata": {},
   "source": [
    "**Ушедшие клиенты**"
   ]
  },
  {
   "cell_type": "code",
   "execution_count": 33,
   "id": "f979e14d",
   "metadata": {},
   "outputs": [
    {
     "data": {
      "image/png": "[encoded data removed]",
      "text/plain": [
       "<Figure size 432x432 with 1 Axes>"
      ]
     },
     "metadata": {},
     "output_type": "display_data"
    }
   ],
   "source": [
    "notclient.pivot_table(index='internetservice', values='customerid', \n",
    "                 aggfunc = 'count').plot(kind='pie',shadow = True, subplots = True,\n",
    "                 fontsize=15, figsize= (6,6), startangle =45,autopct =lambda p: '{:.0f}%'.format(p))\n",
    "plt.legend(loc=1)\n",
    "plt.axis('off')\n",
    "plt.title('Доля интернет пользователей', fontsize=15, fontweight='bold')\n",
    "plt.show()"
   ]
  },
  {
   "cell_type": "code",
   "execution_count": 34,
   "id": "de12b11f",
   "metadata": {},
   "outputs": [
    {
     "data": {
      "text/plain": [
       "array(['User', 'Do not use'], dtype=object)"
      ]
     },
     "execution_count": 34,
     "metadata": {},
     "output_type": "execute_result"
    }
   ],
   "source": [
    "#объединим пользователей телефонной связи с наличием параллельных линий и без в одну группу -  User\n",
    "def phone_user(multiplelines):      \n",
    "    try:\n",
    "        if multiplelines == 'No' or multiplelines== 'Yes':\n",
    "            return 'User'\n",
    "        else:\n",
    "            return 'Do not use'\n",
    "    except:\n",
    "        print('ошибочное значение')\n",
    "notclient['phone_user'] = notclient['multiplelines'].apply(phone_user) \n",
    "notclient['phone_user'].unique()"
   ]
  },
  {
   "cell_type": "code",
   "execution_count": 35,
   "id": "52a0212a",
   "metadata": {},
   "outputs": [
    {
     "data": {
      "image/png": "[encoded data removed]",
      "text/plain": [
       "<Figure size 432x432 with 1 Axes>"
      ]
     },
     "metadata": {},
     "output_type": "display_data"
    }
   ],
   "source": [
    "notclient.pivot_table(index='phone_user', values='customerid', \n",
    "                 aggfunc = 'count').plot(kind='pie',shadow = True, subplots = True,\n",
    "                fontsize=15, figsize= (6,6), startangle =12,autopct =lambda p: '{:.0f}%'.format(p))\n",
    "plt.legend(loc=1)\n",
    "plt.axis('off')\n",
    "plt.title('Доля пользователей телефонной связи', fontsize=15, fontweight='bold')\n",
    "plt.show()"
   ]
  },
  {
   "cell_type": "markdown",
   "id": "9c87893b",
   "metadata": {},
   "source": [
    "Среди ушедших клиентов только 9% не пользовались телефонной связью и 6% не пользовались интернетом. Больше всего из пользователей интернета ушло тех, кто подключался через оптоволоконный кабель (Fiber optic). Можно предположить что ушедшие клиенты были недовольны качеством интернет соединения."
   ]
  },
  {
   "cell_type": "markdown",
   "id": "acfad570",
   "metadata": {},
   "source": [
    "### Вывод\n",
    "\n",
    "26.5% процентов клиентов разорвали контракт с компанией. У ушедших клиентов средний месячный платеж выше, чем в целом у всех клиентов. Больше всего уходит клиентов через 1-2 месяца после заключения контракта.<div> Можно предположить, что клиенты уходят из-за того что недовольны соотношением цена-качество услуг. Среди ушедших много тех, кто подключался к интернету через оптоволоконный кабель (Fiber optic).\n",
    "    \n",
    "То есть в первую очередь стоит обратить внимание на только подключившихся клиентов с ежемесячным платежом выше, чем в среднем по всем клиентам - 65."
   ]
  },
  {
   "cell_type": "markdown",
   "id": "056f807d",
   "metadata": {},
   "source": [
    "## 4. Подготовка данных для обучения"
   ]
  },
  {
   "cell_type": "markdown",
   "id": "5de85a75",
   "metadata": {},
   "source": [
    "Для корректной работы модели нам не понадобятся все колонки, так как это может затормозить работу. \n",
    "\n",
    "Проверим корреляцию количественных признаков"
   ]
  },
  {
   "cell_type": "code",
   "execution_count": 36,
   "id": "f5f63b73",
   "metadata": {},
   "outputs": [
    {
     "data": {
      "text/html": [
       "<div>\n",
       "<style scoped>\n",
       "    .dataframe tbody tr th:only-of-type {\n",
       "        vertical-align: middle;\n",
       "    }\n",
       "\n",
       "    .dataframe tbody tr th {\n",
       "        vertical-align: top;\n",
       "    }\n",
       "\n",
       "    .dataframe thead th {\n",
       "        text-align: right;\n",
       "    }\n",
       "</style>\n",
       "<table border=\"1\" class=\"dataframe\">\n",
       "  <thead>\n",
       "    <tr style=\"text-align: right;\">\n",
       "      <th></th>\n",
       "      <th>seniorcitizen</th>\n",
       "      <th>monthlycharges</th>\n",
       "      <th>totalcharges</th>\n",
       "      <th>сlientgroup</th>\n",
       "      <th>lifetime</th>\n",
       "    </tr>\n",
       "  </thead>\n",
       "  <tbody>\n",
       "    <tr>\n",
       "      <th>seniorcitizen</th>\n",
       "      <td>1.000000</td>\n",
       "      <td>0.219874</td>\n",
       "      <td>0.102411</td>\n",
       "      <td>0.150541</td>\n",
       "      <td>0.015630</td>\n",
       "    </tr>\n",
       "    <tr>\n",
       "      <th>monthlycharges</th>\n",
       "      <td>0.219874</td>\n",
       "      <td>1.000000</td>\n",
       "      <td>0.651065</td>\n",
       "      <td>0.192858</td>\n",
       "      <td>0.246715</td>\n",
       "    </tr>\n",
       "    <tr>\n",
       "      <th>totalcharges</th>\n",
       "      <td>0.102411</td>\n",
       "      <td>0.651065</td>\n",
       "      <td>1.000000</td>\n",
       "      <td>-0.199484</td>\n",
       "      <td>0.825811</td>\n",
       "    </tr>\n",
       "    <tr>\n",
       "      <th>сlientgroup</th>\n",
       "      <td>0.150541</td>\n",
       "      <td>0.192858</td>\n",
       "      <td>-0.199484</td>\n",
       "      <td>1.000000</td>\n",
       "      <td>-0.354496</td>\n",
       "    </tr>\n",
       "    <tr>\n",
       "      <th>lifetime</th>\n",
       "      <td>0.015630</td>\n",
       "      <td>0.246715</td>\n",
       "      <td>0.825811</td>\n",
       "      <td>-0.354496</td>\n",
       "      <td>1.000000</td>\n",
       "    </tr>\n",
       "  </tbody>\n",
       "</table>\n",
       "</div>"
      ],
      "text/plain": [
       "                seniorcitizen  monthlycharges  totalcharges  сlientgroup  \\\n",
       "seniorcitizen        1.000000        0.219874      0.102411     0.150541   \n",
       "monthlycharges       0.219874        1.000000      0.651065     0.192858   \n",
       "totalcharges         0.102411        0.651065      1.000000    -0.199484   \n",
       "сlientgroup          0.150541        0.192858     -0.199484     1.000000   \n",
       "lifetime             0.015630        0.246715      0.825811    -0.354496   \n",
       "\n",
       "                lifetime  \n",
       "seniorcitizen   0.015630  \n",
       "monthlycharges  0.246715  \n",
       "totalcharges    0.825811  \n",
       "сlientgroup    -0.354496  \n",
       "lifetime        1.000000  "
      ]
     },
     "metadata": {},
     "output_type": "display_data"
    }
   ],
   "source": [
    "display(full.corr())"
   ]
  },
  {
   "cell_type": "markdown",
   "id": "02463f95",
   "metadata": {},
   "source": [
    "Корреляция между totalcharges и lifetime больше чем 0.8. Удалим totalcharges, тк есть monthlycharges"
   ]
  },
  {
   "cell_type": "code",
   "execution_count": 37,
   "id": "4c5445cf",
   "metadata": {},
   "outputs": [
    {
     "name": "stdout",
     "output_type": "stream",
     "text": [
      "<class 'pandas.core.frame.DataFrame'>\n",
      "Int64Index: 7032 entries, 0 to 7031\n",
      "Data columns (total 23 columns):\n",
      " #   Column            Non-Null Count  Dtype         \n",
      "---  ------            --------------  -----         \n",
      " 0   customerid        7032 non-null   object        \n",
      " 1   gender            7032 non-null   object        \n",
      " 2   seniorcitizen     7032 non-null   int64         \n",
      " 3   partner           7032 non-null   object        \n",
      " 4   dependents        7032 non-null   object        \n",
      " 5   begindate         7032 non-null   datetime64[ns]\n",
      " 6   enddate           7032 non-null   object        \n",
      " 7   type              7032 non-null   object        \n",
      " 8   paperlessbilling  7032 non-null   object        \n",
      " 9   paymentmethod     7032 non-null   object        \n",
      " 10  monthlycharges    7032 non-null   float64       \n",
      " 11  totalcharges      7032 non-null   float64       \n",
      " 12  сlientgroup       7032 non-null   int64         \n",
      " 13  lifetime          7032 non-null   int64         \n",
      " 14  multiplelines     7032 non-null   object        \n",
      " 15  internetservice   7032 non-null   object        \n",
      " 16  onlinesecurity    7032 non-null   object        \n",
      " 17  onlinebackup      7032 non-null   object        \n",
      " 18  deviceprotection  7032 non-null   object        \n",
      " 19  techsupport       7032 non-null   object        \n",
      " 20  streamingtv       7032 non-null   object        \n",
      " 21  streamingmovies   7032 non-null   object        \n",
      " 22  phone_user        7032 non-null   object        \n",
      "dtypes: datetime64[ns](1), float64(2), int64(3), object(17)\n",
      "memory usage: 1.3+ MB\n"
     ]
    }
   ],
   "source": [
    "full.info()"
   ]
  },
  {
   "cell_type": "markdown",
   "id": "8b7689d5",
   "metadata": {},
   "source": [
    "Колонка customerid не несет в себе никакой полезной информации, phone_user создавалась только для анализа поведения пользователей, а begindate и enddate могут привести к утечке данных - вместо них оставим только колонку время жизни клиента lifetime"
   ]
  },
  {
   "cell_type": "markdown",
   "id": "9eab5c8f",
   "metadata": {},
   "source": [
    "Все категориальные признаки имеют тип данных object, кроме данных в колонке seniorcitizen. Преобразуем их в object.\n",
    "Колонка clientgroup будет целевым признаком. Остальные колонки: monthlycharges, lifetime - количественные признаки"
   ]
  },
  {
   "cell_type": "code",
   "execution_count": 38,
   "id": "bc6c027e",
   "metadata": {},
   "outputs": [],
   "source": [
    "full=full.drop(['customerid','begindate','enddate', 'phone_user', 'totalcharges'], axis =1)\n",
    "full['seniorcitizen']=full['seniorcitizen'].replace( 0 , 'No')\n",
    "full['seniorcitizen']=full['seniorcitizen'].replace( 1 , 'Yes')"
   ]
  },
  {
   "cell_type": "code",
   "execution_count": 39,
   "id": "28d71289",
   "metadata": {},
   "outputs": [
    {
     "name": "stdout",
     "output_type": "stream",
     "text": [
      "<class 'pandas.core.frame.DataFrame'>\n",
      "Int64Index: 7032 entries, 0 to 7031\n",
      "Data columns (total 18 columns):\n",
      " #   Column            Non-Null Count  Dtype  \n",
      "---  ------            --------------  -----  \n",
      " 0   gender            7032 non-null   object \n",
      " 1   seniorcitizen     7032 non-null   object \n",
      " 2   partner           7032 non-null   object \n",
      " 3   dependents        7032 non-null   object \n",
      " 4   type              7032 non-null   object \n",
      " 5   paperlessbilling  7032 non-null   object \n",
      " 6   paymentmethod     7032 non-null   object \n",
      " 7   monthlycharges    7032 non-null   float64\n",
      " 8   сlientgroup       7032 non-null   int64  \n",
      " 9   lifetime          7032 non-null   int64  \n",
      " 10  multiplelines     7032 non-null   object \n",
      " 11  internetservice   7032 non-null   object \n",
      " 12  onlinesecurity    7032 non-null   object \n",
      " 13  onlinebackup      7032 non-null   object \n",
      " 14  deviceprotection  7032 non-null   object \n",
      " 15  techsupport       7032 non-null   object \n",
      " 16  streamingtv       7032 non-null   object \n",
      " 17  streamingmovies   7032 non-null   object \n",
      "dtypes: float64(1), int64(2), object(15)\n",
      "memory usage: 1.0+ MB\n"
     ]
    }
   ],
   "source": [
    "full.info()"
   ]
  },
  {
   "cell_type": "markdown",
   "id": "221868d3",
   "metadata": {},
   "source": [
    "Разобъем данные на признаки и целевой признак и разделим их на 2 выборки: обучающую и тестовую."
   ]
  },
  {
   "cell_type": "code",
   "execution_count": 40,
   "id": "7037501f",
   "metadata": {},
   "outputs": [
    {
     "name": "stdout",
     "output_type": "stream",
     "text": [
      "Обучающая выборка:  (4922, 17) (4922,)\n",
      "Тестовая выборка:  (2110, 17) (2110,)\n"
     ]
    }
   ],
   "source": [
    "target = full['сlientgroup'] #целевой признаком\n",
    "features = full.drop(['сlientgroup'], axis=1) \n",
    "features_train, features_test, target_train, target_test = train_test_split(\n",
    "        features,target,stratify=target, test_size=0.3, random_state=12345)\n",
    "print('Обучающая выборка: ', features_train.shape,  target_train.shape)\n",
    "print('Тестовая выборка: ', features_test.shape,  target_test.shape)"
   ]
  },
  {
   "cell_type": "markdown",
   "id": "c8eb3bec",
   "metadata": {},
   "source": [
    "Проведем кодирование категориальных признаков"
   ]
  },
  {
   "cell_type": "code",
   "execution_count": 41,
   "id": "900fb99a",
   "metadata": {},
   "outputs": [],
   "source": [
    "features_train_ohe=pd.get_dummies(features_train, drop_first=True)\n",
    "features_test_ohe=pd.get_dummies(features_test, drop_first=True)"
   ]
  },
  {
   "cell_type": "code",
   "execution_count": 42,
   "id": "9cc1b7ac",
   "metadata": {},
   "outputs": [
    {
     "data": {
      "text/html": [
       "<div>\n",
       "<style scoped>\n",
       "    .dataframe tbody tr th:only-of-type {\n",
       "        vertical-align: middle;\n",
       "    }\n",
       "\n",
       "    .dataframe tbody tr th {\n",
       "        vertical-align: top;\n",
       "    }\n",
       "\n",
       "    .dataframe thead th {\n",
       "        text-align: right;\n",
       "    }\n",
       "</style>\n",
       "<table border=\"1\" class=\"dataframe\">\n",
       "  <thead>\n",
       "    <tr style=\"text-align: right;\">\n",
       "      <th></th>\n",
       "      <th>monthlycharges</th>\n",
       "      <th>lifetime</th>\n",
       "      <th>gender_Male</th>\n",
       "      <th>seniorcitizen_Yes</th>\n",
       "      <th>partner_Yes</th>\n",
       "      <th>dependents_Yes</th>\n",
       "      <th>type_One year</th>\n",
       "      <th>type_Two year</th>\n",
       "      <th>paperlessbilling_Yes</th>\n",
       "      <th>paymentmethod_Credit card (automatic)</th>\n",
       "      <th>paymentmethod_Electronic check</th>\n",
       "      <th>paymentmethod_Mailed check</th>\n",
       "      <th>multiplelines_No</th>\n",
       "      <th>multiplelines_Yes</th>\n",
       "      <th>internetservice_Do not use</th>\n",
       "      <th>internetservice_Fiber optic</th>\n",
       "      <th>onlinesecurity_No</th>\n",
       "      <th>onlinesecurity_Yes</th>\n",
       "      <th>onlinebackup_No</th>\n",
       "      <th>onlinebackup_Yes</th>\n",
       "      <th>deviceprotection_No</th>\n",
       "      <th>deviceprotection_Yes</th>\n",
       "      <th>techsupport_No</th>\n",
       "      <th>techsupport_Yes</th>\n",
       "      <th>streamingtv_No</th>\n",
       "      <th>streamingtv_Yes</th>\n",
       "      <th>streamingmovies_No</th>\n",
       "      <th>streamingmovies_Yes</th>\n",
       "    </tr>\n",
       "  </thead>\n",
       "  <tbody>\n",
       "    <tr>\n",
       "      <th>309</th>\n",
       "      <td>78.75</td>\n",
       "      <td>1461</td>\n",
       "      <td>1</td>\n",
       "      <td>0</td>\n",
       "      <td>0</td>\n",
       "      <td>1</td>\n",
       "      <td>1</td>\n",
       "      <td>0</td>\n",
       "      <td>1</td>\n",
       "      <td>1</td>\n",
       "      <td>0</td>\n",
       "      <td>0</td>\n",
       "      <td>0</td>\n",
       "      <td>1</td>\n",
       "      <td>0</td>\n",
       "      <td>0</td>\n",
       "      <td>0</td>\n",
       "      <td>1</td>\n",
       "      <td>1</td>\n",
       "      <td>0</td>\n",
       "      <td>0</td>\n",
       "      <td>1</td>\n",
       "      <td>1</td>\n",
       "      <td>0</td>\n",
       "      <td>0</td>\n",
       "      <td>1</td>\n",
       "      <td>0</td>\n",
       "      <td>1</td>\n",
       "    </tr>\n",
       "    <tr>\n",
       "      <th>5313</th>\n",
       "      <td>81.90</td>\n",
       "      <td>792</td>\n",
       "      <td>0</td>\n",
       "      <td>0</td>\n",
       "      <td>1</td>\n",
       "      <td>0</td>\n",
       "      <td>0</td>\n",
       "      <td>0</td>\n",
       "      <td>0</td>\n",
       "      <td>0</td>\n",
       "      <td>0</td>\n",
       "      <td>0</td>\n",
       "      <td>1</td>\n",
       "      <td>0</td>\n",
       "      <td>0</td>\n",
       "      <td>0</td>\n",
       "      <td>1</td>\n",
       "      <td>0</td>\n",
       "      <td>0</td>\n",
       "      <td>1</td>\n",
       "      <td>0</td>\n",
       "      <td>1</td>\n",
       "      <td>0</td>\n",
       "      <td>1</td>\n",
       "      <td>0</td>\n",
       "      <td>1</td>\n",
       "      <td>0</td>\n",
       "      <td>1</td>\n",
       "    </tr>\n",
       "    <tr>\n",
       "      <th>1712</th>\n",
       "      <td>19.70</td>\n",
       "      <td>2191</td>\n",
       "      <td>1</td>\n",
       "      <td>0</td>\n",
       "      <td>1</td>\n",
       "      <td>0</td>\n",
       "      <td>0</td>\n",
       "      <td>1</td>\n",
       "      <td>0</td>\n",
       "      <td>1</td>\n",
       "      <td>0</td>\n",
       "      <td>0</td>\n",
       "      <td>1</td>\n",
       "      <td>0</td>\n",
       "      <td>1</td>\n",
       "      <td>0</td>\n",
       "      <td>0</td>\n",
       "      <td>0</td>\n",
       "      <td>0</td>\n",
       "      <td>0</td>\n",
       "      <td>0</td>\n",
       "      <td>0</td>\n",
       "      <td>0</td>\n",
       "      <td>0</td>\n",
       "      <td>0</td>\n",
       "      <td>0</td>\n",
       "      <td>0</td>\n",
       "      <td>0</td>\n",
       "    </tr>\n",
       "    <tr>\n",
       "      <th>3629</th>\n",
       "      <td>24.55</td>\n",
       "      <td>2191</td>\n",
       "      <td>0</td>\n",
       "      <td>0</td>\n",
       "      <td>1</td>\n",
       "      <td>0</td>\n",
       "      <td>0</td>\n",
       "      <td>1</td>\n",
       "      <td>0</td>\n",
       "      <td>0</td>\n",
       "      <td>1</td>\n",
       "      <td>0</td>\n",
       "      <td>0</td>\n",
       "      <td>1</td>\n",
       "      <td>1</td>\n",
       "      <td>0</td>\n",
       "      <td>0</td>\n",
       "      <td>0</td>\n",
       "      <td>0</td>\n",
       "      <td>0</td>\n",
       "      <td>0</td>\n",
       "      <td>0</td>\n",
       "      <td>0</td>\n",
       "      <td>0</td>\n",
       "      <td>0</td>\n",
       "      <td>0</td>\n",
       "      <td>0</td>\n",
       "      <td>0</td>\n",
       "    </tr>\n",
       "    <tr>\n",
       "      <th>3149</th>\n",
       "      <td>72.75</td>\n",
       "      <td>123</td>\n",
       "      <td>0</td>\n",
       "      <td>1</td>\n",
       "      <td>0</td>\n",
       "      <td>0</td>\n",
       "      <td>0</td>\n",
       "      <td>0</td>\n",
       "      <td>0</td>\n",
       "      <td>0</td>\n",
       "      <td>1</td>\n",
       "      <td>0</td>\n",
       "      <td>1</td>\n",
       "      <td>0</td>\n",
       "      <td>0</td>\n",
       "      <td>1</td>\n",
       "      <td>1</td>\n",
       "      <td>0</td>\n",
       "      <td>0</td>\n",
       "      <td>1</td>\n",
       "      <td>1</td>\n",
       "      <td>0</td>\n",
       "      <td>1</td>\n",
       "      <td>0</td>\n",
       "      <td>1</td>\n",
       "      <td>0</td>\n",
       "      <td>1</td>\n",
       "      <td>0</td>\n",
       "    </tr>\n",
       "  </tbody>\n",
       "</table>\n",
       "</div>"
      ],
      "text/plain": [
       "      monthlycharges  lifetime  gender_Male  seniorcitizen_Yes  partner_Yes  \\\n",
       "309            78.75      1461            1                  0            0   \n",
       "5313           81.90       792            0                  0            1   \n",
       "1712           19.70      2191            1                  0            1   \n",
       "3629           24.55      2191            0                  0            1   \n",
       "3149           72.75       123            0                  1            0   \n",
       "\n",
       "      dependents_Yes  type_One year  type_Two year  paperlessbilling_Yes  \\\n",
       "309                1              1              0                     1   \n",
       "5313               0              0              0                     0   \n",
       "1712               0              0              1                     0   \n",
       "3629               0              0              1                     0   \n",
       "3149               0              0              0                     0   \n",
       "\n",
       "      paymentmethod_Credit card (automatic)  paymentmethod_Electronic check  \\\n",
       "309                                       1                               0   \n",
       "5313                                      0                               0   \n",
       "1712                                      1                               0   \n",
       "3629                                      0                               1   \n",
       "3149                                      0                               1   \n",
       "\n",
       "      paymentmethod_Mailed check  multiplelines_No  multiplelines_Yes  \\\n",
       "309                            0                 0                  1   \n",
       "5313                           0                 1                  0   \n",
       "1712                           0                 1                  0   \n",
       "3629                           0                 0                  1   \n",
       "3149                           0                 1                  0   \n",
       "\n",
       "      internetservice_Do not use  internetservice_Fiber optic  \\\n",
       "309                            0                            0   \n",
       "5313                           0                            0   \n",
       "1712                           1                            0   \n",
       "3629                           1                            0   \n",
       "3149                           0                            1   \n",
       "\n",
       "      onlinesecurity_No  onlinesecurity_Yes  onlinebackup_No  \\\n",
       "309                   0                   1                1   \n",
       "5313                  1                   0                0   \n",
       "1712                  0                   0                0   \n",
       "3629                  0                   0                0   \n",
       "3149                  1                   0                0   \n",
       "\n",
       "      onlinebackup_Yes  deviceprotection_No  deviceprotection_Yes  \\\n",
       "309                  0                    0                     1   \n",
       "5313                 1                    0                     1   \n",
       "1712                 0                    0                     0   \n",
       "3629                 0                    0                     0   \n",
       "3149                 1                    1                     0   \n",
       "\n",
       "      techsupport_No  techsupport_Yes  streamingtv_No  streamingtv_Yes  \\\n",
       "309                1                0               0                1   \n",
       "5313               0                1               0                1   \n",
       "1712               0                0               0                0   \n",
       "3629               0                0               0                0   \n",
       "3149               1                0               1                0   \n",
       "\n",
       "      streamingmovies_No  streamingmovies_Yes  \n",
       "309                    0                    1  \n",
       "5313                   0                    1  \n",
       "1712                   0                    0  \n",
       "3629                   0                    0  \n",
       "3149                   1                    0  "
      ]
     },
     "metadata": {},
     "output_type": "display_data"
    },
    {
     "data": {
      "text/plain": [
       "(2110, 28)"
      ]
     },
     "execution_count": 42,
     "metadata": {},
     "output_type": "execute_result"
    }
   ],
   "source": [
    "display(features_test_ohe.head())\n",
    "features_test_ohe.shape"
   ]
  },
  {
   "cell_type": "markdown",
   "id": "349faa92",
   "metadata": {},
   "source": [
    "Проведем масштабирование количественных признаков"
   ]
  },
  {
   "cell_type": "code",
   "execution_count": 43,
   "id": "037a714c",
   "metadata": {},
   "outputs": [
    {
     "data": {
      "text/plain": [
       "(4922, 28)"
      ]
     },
     "metadata": {},
     "output_type": "display_data"
    },
    {
     "data": {
      "text/html": [
       "<div>\n",
       "<style scoped>\n",
       "    .dataframe tbody tr th:only-of-type {\n",
       "        vertical-align: middle;\n",
       "    }\n",
       "\n",
       "    .dataframe tbody tr th {\n",
       "        vertical-align: top;\n",
       "    }\n",
       "\n",
       "    .dataframe thead th {\n",
       "        text-align: right;\n",
       "    }\n",
       "</style>\n",
       "<table border=\"1\" class=\"dataframe\">\n",
       "  <thead>\n",
       "    <tr style=\"text-align: right;\">\n",
       "      <th></th>\n",
       "      <th>monthlycharges</th>\n",
       "      <th>lifetime</th>\n",
       "      <th>gender_Male</th>\n",
       "      <th>seniorcitizen_Yes</th>\n",
       "      <th>partner_Yes</th>\n",
       "      <th>dependents_Yes</th>\n",
       "      <th>type_One year</th>\n",
       "      <th>type_Two year</th>\n",
       "      <th>paperlessbilling_Yes</th>\n",
       "      <th>paymentmethod_Credit card (automatic)</th>\n",
       "      <th>paymentmethod_Electronic check</th>\n",
       "      <th>paymentmethod_Mailed check</th>\n",
       "      <th>multiplelines_No</th>\n",
       "      <th>multiplelines_Yes</th>\n",
       "      <th>internetservice_Do not use</th>\n",
       "      <th>internetservice_Fiber optic</th>\n",
       "      <th>onlinesecurity_No</th>\n",
       "      <th>onlinesecurity_Yes</th>\n",
       "      <th>onlinebackup_No</th>\n",
       "      <th>onlinebackup_Yes</th>\n",
       "      <th>deviceprotection_No</th>\n",
       "      <th>deviceprotection_Yes</th>\n",
       "      <th>techsupport_No</th>\n",
       "      <th>techsupport_Yes</th>\n",
       "      <th>streamingtv_No</th>\n",
       "      <th>streamingtv_Yes</th>\n",
       "      <th>streamingmovies_No</th>\n",
       "      <th>streamingmovies_Yes</th>\n",
       "    </tr>\n",
       "  </thead>\n",
       "  <tbody>\n",
       "    <tr>\n",
       "      <th>6325</th>\n",
       "      <td>1.298360</td>\n",
       "      <td>1.413795</td>\n",
       "      <td>0</td>\n",
       "      <td>0</td>\n",
       "      <td>0</td>\n",
       "      <td>1</td>\n",
       "      <td>0</td>\n",
       "      <td>1</td>\n",
       "      <td>1</td>\n",
       "      <td>0</td>\n",
       "      <td>1</td>\n",
       "      <td>0</td>\n",
       "      <td>0</td>\n",
       "      <td>1</td>\n",
       "      <td>0</td>\n",
       "      <td>1</td>\n",
       "      <td>1</td>\n",
       "      <td>0</td>\n",
       "      <td>0</td>\n",
       "      <td>1</td>\n",
       "      <td>1</td>\n",
       "      <td>0</td>\n",
       "      <td>0</td>\n",
       "      <td>1</td>\n",
       "      <td>0</td>\n",
       "      <td>1</td>\n",
       "      <td>0</td>\n",
       "      <td>1</td>\n",
       "    </tr>\n",
       "    <tr>\n",
       "      <th>2432</th>\n",
       "      <td>-0.115736</td>\n",
       "      <td>-1.040535</td>\n",
       "      <td>0</td>\n",
       "      <td>0</td>\n",
       "      <td>0</td>\n",
       "      <td>0</td>\n",
       "      <td>0</td>\n",
       "      <td>0</td>\n",
       "      <td>0</td>\n",
       "      <td>0</td>\n",
       "      <td>1</td>\n",
       "      <td>0</td>\n",
       "      <td>1</td>\n",
       "      <td>0</td>\n",
       "      <td>0</td>\n",
       "      <td>0</td>\n",
       "      <td>0</td>\n",
       "      <td>1</td>\n",
       "      <td>0</td>\n",
       "      <td>1</td>\n",
       "      <td>0</td>\n",
       "      <td>1</td>\n",
       "      <td>1</td>\n",
       "      <td>0</td>\n",
       "      <td>1</td>\n",
       "      <td>0</td>\n",
       "      <td>1</td>\n",
       "      <td>0</td>\n",
       "    </tr>\n",
       "    <tr>\n",
       "      <th>6352</th>\n",
       "      <td>-0.069263</td>\n",
       "      <td>-1.040535</td>\n",
       "      <td>0</td>\n",
       "      <td>0</td>\n",
       "      <td>0</td>\n",
       "      <td>0</td>\n",
       "      <td>0</td>\n",
       "      <td>0</td>\n",
       "      <td>0</td>\n",
       "      <td>0</td>\n",
       "      <td>0</td>\n",
       "      <td>0</td>\n",
       "      <td>1</td>\n",
       "      <td>0</td>\n",
       "      <td>0</td>\n",
       "      <td>0</td>\n",
       "      <td>1</td>\n",
       "      <td>0</td>\n",
       "      <td>1</td>\n",
       "      <td>0</td>\n",
       "      <td>0</td>\n",
       "      <td>1</td>\n",
       "      <td>0</td>\n",
       "      <td>1</td>\n",
       "      <td>1</td>\n",
       "      <td>0</td>\n",
       "      <td>0</td>\n",
       "      <td>1</td>\n",
       "    </tr>\n",
       "    <tr>\n",
       "      <th>3813</th>\n",
       "      <td>-1.133154</td>\n",
       "      <td>0.553570</td>\n",
       "      <td>1</td>\n",
       "      <td>0</td>\n",
       "      <td>0</td>\n",
       "      <td>0</td>\n",
       "      <td>1</td>\n",
       "      <td>0</td>\n",
       "      <td>1</td>\n",
       "      <td>0</td>\n",
       "      <td>0</td>\n",
       "      <td>0</td>\n",
       "      <td>0</td>\n",
       "      <td>0</td>\n",
       "      <td>0</td>\n",
       "      <td>0</td>\n",
       "      <td>0</td>\n",
       "      <td>1</td>\n",
       "      <td>1</td>\n",
       "      <td>0</td>\n",
       "      <td>1</td>\n",
       "      <td>0</td>\n",
       "      <td>1</td>\n",
       "      <td>0</td>\n",
       "      <td>1</td>\n",
       "      <td>0</td>\n",
       "      <td>1</td>\n",
       "      <td>0</td>\n",
       "    </tr>\n",
       "    <tr>\n",
       "      <th>3122</th>\n",
       "      <td>-1.138134</td>\n",
       "      <td>-0.142675</td>\n",
       "      <td>0</td>\n",
       "      <td>0</td>\n",
       "      <td>0</td>\n",
       "      <td>0</td>\n",
       "      <td>0</td>\n",
       "      <td>0</td>\n",
       "      <td>1</td>\n",
       "      <td>0</td>\n",
       "      <td>1</td>\n",
       "      <td>0</td>\n",
       "      <td>0</td>\n",
       "      <td>0</td>\n",
       "      <td>0</td>\n",
       "      <td>0</td>\n",
       "      <td>1</td>\n",
       "      <td>0</td>\n",
       "      <td>0</td>\n",
       "      <td>1</td>\n",
       "      <td>1</td>\n",
       "      <td>0</td>\n",
       "      <td>1</td>\n",
       "      <td>0</td>\n",
       "      <td>1</td>\n",
       "      <td>0</td>\n",
       "      <td>1</td>\n",
       "      <td>0</td>\n",
       "    </tr>\n",
       "  </tbody>\n",
       "</table>\n",
       "</div>"
      ],
      "text/plain": [
       "      monthlycharges  lifetime  gender_Male  seniorcitizen_Yes  partner_Yes  \\\n",
       "6325        1.298360  1.413795            0                  0            0   \n",
       "2432       -0.115736 -1.040535            0                  0            0   \n",
       "6352       -0.069263 -1.040535            0                  0            0   \n",
       "3813       -1.133154  0.553570            1                  0            0   \n",
       "3122       -1.138134 -0.142675            0                  0            0   \n",
       "\n",
       "      dependents_Yes  type_One year  type_Two year  paperlessbilling_Yes  \\\n",
       "6325               1              0              1                     1   \n",
       "2432               0              0              0                     0   \n",
       "6352               0              0              0                     0   \n",
       "3813               0              1              0                     1   \n",
       "3122               0              0              0                     1   \n",
       "\n",
       "      paymentmethod_Credit card (automatic)  paymentmethod_Electronic check  \\\n",
       "6325                                      0                               1   \n",
       "2432                                      0                               1   \n",
       "6352                                      0                               0   \n",
       "3813                                      0                               0   \n",
       "3122                                      0                               1   \n",
       "\n",
       "      paymentmethod_Mailed check  multiplelines_No  multiplelines_Yes  \\\n",
       "6325                           0                 0                  1   \n",
       "2432                           0                 1                  0   \n",
       "6352                           0                 1                  0   \n",
       "3813                           0                 0                  0   \n",
       "3122                           0                 0                  0   \n",
       "\n",
       "      internetservice_Do not use  internetservice_Fiber optic  \\\n",
       "6325                           0                            1   \n",
       "2432                           0                            0   \n",
       "6352                           0                            0   \n",
       "3813                           0                            0   \n",
       "3122                           0                            0   \n",
       "\n",
       "      onlinesecurity_No  onlinesecurity_Yes  onlinebackup_No  \\\n",
       "6325                  1                   0                0   \n",
       "2432                  0                   1                0   \n",
       "6352                  1                   0                1   \n",
       "3813                  0                   1                1   \n",
       "3122                  1                   0                0   \n",
       "\n",
       "      onlinebackup_Yes  deviceprotection_No  deviceprotection_Yes  \\\n",
       "6325                 1                    1                     0   \n",
       "2432                 1                    0                     1   \n",
       "6352                 0                    0                     1   \n",
       "3813                 0                    1                     0   \n",
       "3122                 1                    1                     0   \n",
       "\n",
       "      techsupport_No  techsupport_Yes  streamingtv_No  streamingtv_Yes  \\\n",
       "6325               0                1               0                1   \n",
       "2432               1                0               1                0   \n",
       "6352               0                1               1                0   \n",
       "3813               1                0               1                0   \n",
       "3122               1                0               1                0   \n",
       "\n",
       "      streamingmovies_No  streamingmovies_Yes  \n",
       "6325                   0                    1  \n",
       "2432                   1                    0  \n",
       "6352                   0                    1  \n",
       "3813                   1                    0  \n",
       "3122                   1                    0  "
      ]
     },
     "metadata": {},
     "output_type": "display_data"
    }
   ],
   "source": [
    "numeric=['monthlycharges', 'lifetime']\n",
    "scaler=StandardScaler()\n",
    "scaler.fit((features_train_ohe[numeric]))\n",
    "features_train_ohe[numeric]=scaler.transform(features_train_ohe[numeric])\n",
    "features_test_ohe[numeric]=scaler.transform(features_test_ohe[numeric])\n",
    "display(features_train_ohe.shape)\n",
    "display(features_train_ohe.head())"
   ]
  },
  {
   "cell_type": "markdown",
   "id": "d8d4f0a8",
   "metadata": {},
   "source": [
    "Проверим баланс классов в целевом признаке"
   ]
  },
  {
   "cell_type": "code",
   "execution_count": 44,
   "id": "0789bc49",
   "metadata": {},
   "outputs": [
    {
     "name": "stdout",
     "output_type": "stream",
     "text": [
      "0    0.734215\n",
      "1    0.265785\n",
      "Name: сlientgroup, dtype: float64\n"
     ]
    },
    {
     "data": {
      "image/png": "[encoded data removed]",
      "text/plain": [
       "<Figure size 432x288 with 1 Axes>"
      ]
     },
     "metadata": {
      "needs_background": "light"
     },
     "output_type": "display_data"
    }
   ],
   "source": [
    "class_frequency=target.value_counts(normalize=True)\n",
    "print(class_frequency)\n",
    "class_frequency.plot(kind='bar')\n",
    "plt.xticks(rotation=0)\n",
    "plt.show()"
   ]
  },
  {
   "cell_type": "markdown",
   "id": "17ecde9e",
   "metadata": {},
   "source": [
    "Дисбаланс классов примерно 1:3"
   ]
  },
  {
   "cell_type": "markdown",
   "id": "af0adbf6",
   "metadata": {},
   "source": [
    "## 5. Обучение простых моделей"
   ]
  },
  {
   "cell_type": "markdown",
   "id": "84ca81f3",
   "metadata": {},
   "source": [
    "Рассмотрим несколько простых моделей: Логистическая регрессия, Дерево решений и Случайный лес"
   ]
  },
  {
   "cell_type": "code",
   "execution_count": 45,
   "id": "f8b740a0",
   "metadata": {},
   "outputs": [],
   "source": [
    "#функция для кроссвалидации по модели\n",
    "\n",
    "def calc(model, features, target, params):\n",
    "    roc_auc_scorer=make_scorer(roc_auc_score, greater_is_better=True, needs_threshold=True)\n",
    "    grid= GridSearchCV(model, params, scoring=roc_auc_scorer, cv=5, n_jobs = -1)\n",
    "    grid.fit(features, target)\n",
    "    print('Лучшие гиперпараметры для модели: ', grid.best_params_)\n",
    "    print('Лучшая метрика ROC_AUC: {:.3f}'.format(grid.best_score_))"
   ]
  },
  {
   "cell_type": "markdown",
   "id": "91b916da",
   "metadata": {},
   "source": [
    "Сначала попробуем кроссвалидацию со встроеной борьбой с дисбалансом по гипперпараметру class_weight"
   ]
  },
  {
   "cell_type": "markdown",
   "id": "ca38eb46",
   "metadata": {},
   "source": [
    "**Логистическая регрессия**"
   ]
  },
  {
   "cell_type": "code",
   "execution_count": 46,
   "id": "03fad1c3",
   "metadata": {},
   "outputs": [
    {
     "name": "stderr",
     "output_type": "stream",
     "text": [
      "/Users/katerinakasanova/opt/anaconda3/lib/python3.9/site-packages/sklearn/linear_model/_logistic.py:763: ConvergenceWarning: lbfgs failed to converge (status=1):\n",
      "STOP: TOTAL NO. of ITERATIONS REACHED LIMIT.\n",
      "\n",
      "Increase the number of iterations (max_iter) or scale the data as shown in:\n",
      "    https://scikit-learn.org/stable/modules/preprocessing.html\n",
      "Please also refer to the documentation for alternative solver options:\n",
      "    https://scikit-learn.org/stable/modules/linear_model.html#logistic-regression\n",
      "  n_iter_i = _check_optimize_result(\n",
      "/Users/katerinakasanova/opt/anaconda3/lib/python3.9/site-packages/sklearn/linear_model/_logistic.py:763: ConvergenceWarning: lbfgs failed to converge (status=1):\n",
      "STOP: TOTAL NO. of ITERATIONS REACHED LIMIT.\n",
      "\n",
      "Increase the number of iterations (max_iter) or scale the data as shown in:\n",
      "    https://scikit-learn.org/stable/modules/preprocessing.html\n",
      "Please also refer to the documentation for alternative solver options:\n",
      "    https://scikit-learn.org/stable/modules/linear_model.html#logistic-regression\n",
      "  n_iter_i = _check_optimize_result(\n",
      "/Users/katerinakasanova/opt/anaconda3/lib/python3.9/site-packages/sklearn/linear_model/_logistic.py:763: ConvergenceWarning: lbfgs failed to converge (status=1):\n",
      "STOP: TOTAL NO. of ITERATIONS REACHED LIMIT.\n",
      "\n",
      "Increase the number of iterations (max_iter) or scale the data as shown in:\n",
      "    https://scikit-learn.org/stable/modules/preprocessing.html\n",
      "Please also refer to the documentation for alternative solver options:\n",
      "    https://scikit-learn.org/stable/modules/linear_model.html#logistic-regression\n",
      "  n_iter_i = _check_optimize_result(\n",
      "/Users/katerinakasanova/opt/anaconda3/lib/python3.9/site-packages/sklearn/linear_model/_logistic.py:763: ConvergenceWarning: lbfgs failed to converge (status=1):\n",
      "STOP: TOTAL NO. of ITERATIONS REACHED LIMIT.\n",
      "\n",
      "Increase the number of iterations (max_iter) or scale the data as shown in:\n",
      "    https://scikit-learn.org/stable/modules/preprocessing.html\n",
      "Please also refer to the documentation for alternative solver options:\n",
      "    https://scikit-learn.org/stable/modules/linear_model.html#logistic-regression\n",
      "  n_iter_i = _check_optimize_result(\n"
     ]
    },
    {
     "name": "stdout",
     "output_type": "stream",
     "text": [
      "Лучшие гиперпараметры для модели:  {'C': 2, 'class_weight': None}\n",
      "Лучшая метрика ROC_AUC: 0.841\n",
      "CPU times: user 268 ms, sys: 106 ms, total: 374 ms\n",
      "Wall time: 4.86 s\n"
     ]
    },
    {
     "name": "stderr",
     "output_type": "stream",
     "text": [
      "/Users/katerinakasanova/opt/anaconda3/lib/python3.9/site-packages/sklearn/linear_model/_logistic.py:763: ConvergenceWarning: lbfgs failed to converge (status=1):\n",
      "STOP: TOTAL NO. of ITERATIONS REACHED LIMIT.\n",
      "\n",
      "Increase the number of iterations (max_iter) or scale the data as shown in:\n",
      "    https://scikit-learn.org/stable/modules/preprocessing.html\n",
      "Please also refer to the documentation for alternative solver options:\n",
      "    https://scikit-learn.org/stable/modules/linear_model.html#logistic-regression\n",
      "  n_iter_i = _check_optimize_result(\n",
      "/Users/katerinakasanova/opt/anaconda3/lib/python3.9/site-packages/sklearn/linear_model/_logistic.py:763: ConvergenceWarning: lbfgs failed to converge (status=1):\n",
      "STOP: TOTAL NO. of ITERATIONS REACHED LIMIT.\n",
      "\n",
      "Increase the number of iterations (max_iter) or scale the data as shown in:\n",
      "    https://scikit-learn.org/stable/modules/preprocessing.html\n",
      "Please also refer to the documentation for alternative solver options:\n",
      "    https://scikit-learn.org/stable/modules/linear_model.html#logistic-regression\n",
      "  n_iter_i = _check_optimize_result(\n"
     ]
    }
   ],
   "source": [
    "%%time\n",
    "regress=LogisticRegression(random_state=12345)\n",
    "regress_params={'class_weight':['balanced',None], 'C':[2, 5,8]}\n",
    "calc(regress, features_train_ohe, target_train, regress_params )"
   ]
  },
  {
   "cell_type": "markdown",
   "id": "e7260c42",
   "metadata": {},
   "source": [
    "Кроссвалидация показала, что лучшая метрика ROC_AUC = 0.841 достигается, если class_weight не применять."
   ]
  },
  {
   "cell_type": "markdown",
   "id": "7f5ccab9",
   "metadata": {},
   "source": [
    "**Дерево решений**"
   ]
  },
  {
   "cell_type": "code",
   "execution_count": 47,
   "id": "8103d2c7",
   "metadata": {},
   "outputs": [
    {
     "name": "stdout",
     "output_type": "stream",
     "text": [
      "Лучшие гиперпараметры для модели:  {'class_weight': 'balanced', 'max_depth': 6}\n",
      "Лучшая метрика ROC_AUC: 0.843\n",
      "CPU times: user 91.3 ms, sys: 14.4 ms, total: 106 ms\n",
      "Wall time: 496 ms\n"
     ]
    }
   ],
   "source": [
    "%%time\n",
    "tree= DecisionTreeClassifier(random_state=12345)\n",
    "tree_params = {'max_depth': range(1, 17, 5),'class_weight':['balanced',None]}\n",
    "calc(tree, features_train_ohe, target_train, tree_params )"
   ]
  },
  {
   "cell_type": "markdown",
   "id": "9adf9680",
   "metadata": {},
   "source": [
    "Кровссвалидация показала, что лучшая метрика ROC_AUC = 0.843 достигается так же без баланса"
   ]
  },
  {
   "cell_type": "markdown",
   "id": "db61f463",
   "metadata": {},
   "source": [
    "**Случайный лес**"
   ]
  },
  {
   "cell_type": "code",
   "execution_count": 48,
   "id": "e1bbedee",
   "metadata": {},
   "outputs": [
    {
     "name": "stdout",
     "output_type": "stream",
     "text": [
      "Лучшие гиперпараметры для модели:  {'class_weight': None, 'max_depth': 7, 'n_estimators': 31}\n",
      "Лучшая метрика ROC_AUC: 0.852\n",
      "CPU times: user 1.25 s, sys: 135 ms, total: 1.39 s\n",
      "Wall time: 22.5 s\n"
     ]
    }
   ],
   "source": [
    "%%time\n",
    "forest = RandomForestClassifier(random_state=12345)\n",
    "forest_params={'max_depth': range(1, 13, 2), 'class_weight':['balanced',None], 'n_estimators':range(1,45,5)}\n",
    "calc(forest, features_train_ohe, target_train,forest_params)"
   ]
  },
  {
   "cell_type": "markdown",
   "id": "09eeb517",
   "metadata": {},
   "source": [
    "Лучшая метрика ROC_AUC=0.852 достигается без баланса классов, она немного лучше чем у Логистической регрессии и Дерева решений. "
   ]
  },
  {
   "cell_type": "markdown",
   "id": "5428c3fc",
   "metadata": {},
   "source": [
    "Попробуем изменить баланс классов вручную."
   ]
  },
  {
   "cell_type": "code",
   "execution_count": 49,
   "id": "910818da",
   "metadata": {},
   "outputs": [],
   "source": [
    "#Функция для увеличения положительных объектов в выборке на n-количество раз(repeat)\n",
    "\n",
    "def upsample(features, target, repeat):\n",
    "    features_zeros=features[target==0]\n",
    "    features_ones=features[target==1]\n",
    "    target_zeros=target[target==0]\n",
    "    target_ones=target[target==1]\n",
    "    features_upsampled=pd.concat([features_zeros]+[features_ones]*repeat)\n",
    "    target_upsampled=pd.concat([target_zeros]+[target_ones]*repeat)\n",
    "    features_upsampled, target_upsampled = shuffle(features_upsampled, target_upsampled,random_state=12345)\n",
    "    return features_upsampled, target_upsampled"
   ]
  },
  {
   "cell_type": "code",
   "execution_count": 50,
   "id": "478e598d",
   "metadata": {},
   "outputs": [
    {
     "name": "stdout",
     "output_type": "stream",
     "text": [
      "(7538, 28)\n",
      "(7538,)\n"
     ]
    }
   ],
   "source": [
    "#увеличим количество положительных объектов в 3 раза\n",
    "\n",
    "features_upsampled, target_upsampled = upsample(features_train_ohe, target_train, 3)\n",
    "print(features_upsampled.shape)\n",
    "print(target_upsampled.shape)"
   ]
  },
  {
   "cell_type": "code",
   "execution_count": 51,
   "id": "98a05b6d",
   "metadata": {},
   "outputs": [
    {
     "name": "stdout",
     "output_type": "stream",
     "text": [
      "1    0.520562\n",
      "0    0.479438\n",
      "Name: сlientgroup, dtype: float64\n"
     ]
    },
    {
     "data": {
      "image/png": "[encoded data removed]",
      "text/plain": [
       "<Figure size 432x288 with 1 Axes>"
      ]
     },
     "metadata": {
      "needs_background": "light"
     },
     "output_type": "display_data"
    }
   ],
   "source": [
    "class_frequency=target_upsampled.value_counts(normalize=True)\n",
    "print(class_frequency)\n",
    "class_frequency.plot(kind='bar')\n",
    "plt.xticks(rotation=0)\n",
    "plt.show()"
   ]
  },
  {
   "cell_type": "markdown",
   "id": "361dc9d1",
   "metadata": {},
   "source": [
    "**Логистическая регрессия**"
   ]
  },
  {
   "cell_type": "code",
   "execution_count": 52,
   "id": "912990e4",
   "metadata": {},
   "outputs": [
    {
     "name": "stdout",
     "output_type": "stream",
     "text": [
      "Лучшие гиперпараметры для модели:  {'C': 5}\n",
      "Лучшая метрика ROC_AUC: 0.842\n",
      "CPU times: user 232 ms, sys: 17.4 ms, total: 250 ms\n",
      "Wall time: 855 ms\n"
     ]
    },
    {
     "name": "stderr",
     "output_type": "stream",
     "text": [
      "/Users/katerinakasanova/opt/anaconda3/lib/python3.9/site-packages/sklearn/linear_model/_logistic.py:763: ConvergenceWarning: lbfgs failed to converge (status=1):\n",
      "STOP: TOTAL NO. of ITERATIONS REACHED LIMIT.\n",
      "\n",
      "Increase the number of iterations (max_iter) or scale the data as shown in:\n",
      "    https://scikit-learn.org/stable/modules/preprocessing.html\n",
      "Please also refer to the documentation for alternative solver options:\n",
      "    https://scikit-learn.org/stable/modules/linear_model.html#logistic-regression\n",
      "  n_iter_i = _check_optimize_result(\n"
     ]
    }
   ],
   "source": [
    "%%time\n",
    "regress=LogisticRegression(random_state=12345)\n",
    "regress_params={ 'C':[5, 10,15]}\n",
    "calc(regress, features_upsampled, target_upsampled, regress_params)"
   ]
  },
  {
   "cell_type": "markdown",
   "id": "89fff190",
   "metadata": {},
   "source": [
    "Метрика практически не изменилась"
   ]
  },
  {
   "cell_type": "markdown",
   "id": "a374d6b9",
   "metadata": {},
   "source": [
    "**Дерево решений**"
   ]
  },
  {
   "cell_type": "code",
   "execution_count": 53,
   "id": "de789111",
   "metadata": {},
   "outputs": [
    {
     "name": "stdout",
     "output_type": "stream",
     "text": [
      "Лучшие гиперпараметры для модели:  {'max_depth': 7}\n",
      "Лучшая метрика ROC_AUC: 0.870\n",
      "CPU times: user 78.2 ms, sys: 15.5 ms, total: 93.8 ms\n",
      "Wall time: 220 ms\n"
     ]
    }
   ],
   "source": [
    "%%time\n",
    "tree= DecisionTreeClassifier(random_state=12345)\n",
    "tree_params = {'max_depth': range(1, 10, 3)}\n",
    "calc(tree, features_upsampled, target_upsampled, tree_params)"
   ]
  },
  {
   "cell_type": "markdown",
   "id": "edfa9f6c",
   "metadata": {},
   "source": [
    "ROC_AUC - 0.870, это значительно больше, чем без учета дисбаланса"
   ]
  },
  {
   "cell_type": "markdown",
   "id": "14358669",
   "metadata": {},
   "source": [
    "**Случайный лес**"
   ]
  },
  {
   "cell_type": "code",
   "execution_count": 54,
   "id": "365f289c",
   "metadata": {},
   "outputs": [
    {
     "name": "stdout",
     "output_type": "stream",
     "text": [
      "Лучшие гиперпараметры для модели:  {'max_depth': 9, 'n_estimators': 16}\n",
      "Лучшая метрика ROC_AUC: 0.903\n",
      "CPU times: user 307 ms, sys: 33.8 ms, total: 341 ms\n",
      "Wall time: 3.03 s\n"
     ]
    }
   ],
   "source": [
    "%%time\n",
    "forest = RandomForestClassifier(random_state=12345)\n",
    "forest_params={'max_depth': range(1, 10, 2), 'n_estimators':range(1,21,5)}\n",
    "calc(forest, features_upsampled, target_upsampled,forest_params)"
   ]
  },
  {
   "cell_type": "markdown",
   "id": "9d05c384",
   "metadata": {},
   "source": [
    "ROC_AUC - 0.903, так же значительно больше стал, чем без учета дисбаланса"
   ]
  },
  {
   "cell_type": "markdown",
   "id": "f7a041f0",
   "metadata": {},
   "source": [
    "Попоробуем уменьшить кол-во отрицательных объектов в выборке"
   ]
  },
  {
   "cell_type": "code",
   "execution_count": 55,
   "id": "7b4af053",
   "metadata": {},
   "outputs": [],
   "source": [
    "#Функция для уменьшения отрицательных  объектов в выборке на n-долю (fraction)\n",
    "def downsample(features, target, fraction):\n",
    "    features_zeros=features[target==0]\n",
    "    features_ones=features[target==1]\n",
    "    target_zeros=target[target==0]\n",
    "    target_ones=target[target==1]\n",
    "    features_downsampled = pd.concat([features_zeros.sample(frac=fraction, random_state=12345)]+[features_ones])\n",
    "    target_downsampled = pd.concat([target_zeros.sample(frac=fraction, random_state=12345)]+[target_ones])\n",
    "    features_downsampled, target_downsampled = shuffle(features_downsampled, target_downsampled,random_state=12345)\n",
    "    return features_downsampled, target_downsampled"
   ]
  },
  {
   "cell_type": "code",
   "execution_count": 56,
   "id": "5fecc4df",
   "metadata": {},
   "outputs": [],
   "source": [
    "features_downsampled, target_downsampled = downsample(features_train_ohe, target_train, 0.35)"
   ]
  },
  {
   "cell_type": "code",
   "execution_count": 57,
   "id": "68f45469",
   "metadata": {},
   "outputs": [
    {
     "name": "stdout",
     "output_type": "stream",
     "text": [
      "1    0.508356\n",
      "0    0.491644\n",
      "Name: сlientgroup, dtype: float64\n"
     ]
    },
    {
     "data": {
      "image/png": "[encoded data removed]",
      "text/plain": [
       "<Figure size 432x288 with 1 Axes>"
      ]
     },
     "metadata": {
      "needs_background": "light"
     },
     "output_type": "display_data"
    }
   ],
   "source": [
    "class_frequency=target_downsampled.value_counts(normalize=True)\n",
    "print(class_frequency)\n",
    "class_frequency.plot(kind='bar')\n",
    "plt.xticks(rotation=0)\n",
    "plt.show()"
   ]
  },
  {
   "cell_type": "markdown",
   "id": "045a252f",
   "metadata": {},
   "source": [
    "**Логистическая регрессия**"
   ]
  },
  {
   "cell_type": "code",
   "execution_count": 58,
   "id": "9f231a7c",
   "metadata": {},
   "outputs": [
    {
     "name": "stdout",
     "output_type": "stream",
     "text": [
      "Лучшие гиперпараметры для модели:  {'C': 10}\n",
      "Лучшая метрика ROC_AUC: 0.837\n",
      "CPU times: user 143 ms, sys: 10 ms, total: 153 ms\n",
      "Wall time: 468 ms\n"
     ]
    },
    {
     "name": "stderr",
     "output_type": "stream",
     "text": [
      "/Users/katerinakasanova/opt/anaconda3/lib/python3.9/site-packages/sklearn/linear_model/_logistic.py:763: ConvergenceWarning: lbfgs failed to converge (status=1):\n",
      "STOP: TOTAL NO. of ITERATIONS REACHED LIMIT.\n",
      "\n",
      "Increase the number of iterations (max_iter) or scale the data as shown in:\n",
      "    https://scikit-learn.org/stable/modules/preprocessing.html\n",
      "Please also refer to the documentation for alternative solver options:\n",
      "    https://scikit-learn.org/stable/modules/linear_model.html#logistic-regression\n",
      "  n_iter_i = _check_optimize_result(\n",
      "/Users/katerinakasanova/opt/anaconda3/lib/python3.9/site-packages/sklearn/linear_model/_logistic.py:763: ConvergenceWarning: lbfgs failed to converge (status=1):\n",
      "STOP: TOTAL NO. of ITERATIONS REACHED LIMIT.\n",
      "\n",
      "Increase the number of iterations (max_iter) or scale the data as shown in:\n",
      "    https://scikit-learn.org/stable/modules/preprocessing.html\n",
      "Please also refer to the documentation for alternative solver options:\n",
      "    https://scikit-learn.org/stable/modules/linear_model.html#logistic-regression\n",
      "  n_iter_i = _check_optimize_result(\n",
      "/Users/katerinakasanova/opt/anaconda3/lib/python3.9/site-packages/sklearn/linear_model/_logistic.py:763: ConvergenceWarning: lbfgs failed to converge (status=1):\n",
      "STOP: TOTAL NO. of ITERATIONS REACHED LIMIT.\n",
      "\n",
      "Increase the number of iterations (max_iter) or scale the data as shown in:\n",
      "    https://scikit-learn.org/stable/modules/preprocessing.html\n",
      "Please also refer to the documentation for alternative solver options:\n",
      "    https://scikit-learn.org/stable/modules/linear_model.html#logistic-regression\n",
      "  n_iter_i = _check_optimize_result(\n"
     ]
    }
   ],
   "source": [
    "%%time\n",
    "regress=LogisticRegression(random_state=12345)\n",
    "regress_params={ 'C':[3, 5, 10]}\n",
    "calc(regress, features_downsampled, target_downsampled, regress_params)"
   ]
  },
  {
   "cell_type": "markdown",
   "id": "70e32c20",
   "metadata": {},
   "source": [
    "**Дерево решений**"
   ]
  },
  {
   "cell_type": "code",
   "execution_count": 59,
   "id": "c6d50023",
   "metadata": {},
   "outputs": [
    {
     "name": "stdout",
     "output_type": "stream",
     "text": [
      "Лучшие гиперпараметры для модели:  {'max_depth': 6}\n",
      "Лучшая метрика ROC_AUC: 0.831\n",
      "CPU times: user 63.3 ms, sys: 8.79 ms, total: 72 ms\n",
      "Wall time: 206 ms\n"
     ]
    }
   ],
   "source": [
    "%%time\n",
    "tree= DecisionTreeClassifier(random_state=12345)\n",
    "tree_params = {'max_depth': range(1, 17, 5)}\n",
    "calc(tree, features_downsampled, target_downsampled, tree_params)"
   ]
  },
  {
   "cell_type": "markdown",
   "id": "aa4a4c78",
   "metadata": {},
   "source": [
    "**Случайный лес**"
   ]
  },
  {
   "cell_type": "code",
   "execution_count": 60,
   "id": "09577d0b",
   "metadata": {},
   "outputs": [
    {
     "name": "stdout",
     "output_type": "stream",
     "text": [
      "Лучшие гиперпараметры для модели:  {'max_depth': 7, 'n_estimators': 36}\n",
      "Лучшая метрика ROC_AUC: 0.846\n",
      "CPU times: user 462 ms, sys: 31.5 ms, total: 493 ms\n",
      "Wall time: 8.37 s\n"
     ]
    }
   ],
   "source": [
    "%%time\n",
    "forest = RandomForestClassifier(random_state=12345)\n",
    "forest_params={'max_depth': range(1, 13, 2), 'n_estimators':range(1,45,5)}\n",
    "calc(forest,  features_downsampled, target_downsampled,forest_params)"
   ]
  },
  {
   "cell_type": "markdown",
   "id": "776abdf2",
   "metadata": {},
   "source": [
    "Во всех трех вариантрах метрика даже хуже, чем без учета баланса"
   ]
  },
  {
   "cell_type": "markdown",
   "id": "a8f7acdd",
   "metadata": {},
   "source": [
    "Выведем результаты в таблицу"
   ]
  },
  {
   "cell_type": "code",
   "execution_count": 61,
   "id": "cccda8f0",
   "metadata": {},
   "outputs": [
    {
     "data": {
      "text/html": [
       "<div>\n",
       "<style scoped>\n",
       "    .dataframe tbody tr th:only-of-type {\n",
       "        vertical-align: middle;\n",
       "    }\n",
       "\n",
       "    .dataframe tbody tr th {\n",
       "        vertical-align: top;\n",
       "    }\n",
       "\n",
       "    .dataframe thead th {\n",
       "        text-align: right;\n",
       "    }\n",
       "</style>\n",
       "<table border=\"1\" class=\"dataframe\">\n",
       "  <thead>\n",
       "    <tr style=\"text-align: right;\">\n",
       "      <th></th>\n",
       "      <th>Модель</th>\n",
       "      <th>ROC-AUC без учета баланса</th>\n",
       "      <th>ROC-AUC upsample x3</th>\n",
       "      <th>ROC-AUC downsample x0.35</th>\n",
       "    </tr>\n",
       "  </thead>\n",
       "  <tbody>\n",
       "    <tr>\n",
       "      <th>0</th>\n",
       "      <td>Линейная регрессия</td>\n",
       "      <td>0.842</td>\n",
       "      <td>0.842</td>\n",
       "      <td>0.837</td>\n",
       "    </tr>\n",
       "    <tr>\n",
       "      <th>1</th>\n",
       "      <td>Решающее дерево</td>\n",
       "      <td>0.843</td>\n",
       "      <td>0.870</td>\n",
       "      <td>0.831</td>\n",
       "    </tr>\n",
       "    <tr>\n",
       "      <th>2</th>\n",
       "      <td>Случайный лес</td>\n",
       "      <td>0.853</td>\n",
       "      <td>0.903</td>\n",
       "      <td>0.846</td>\n",
       "    </tr>\n",
       "  </tbody>\n",
       "</table>\n",
       "</div>"
      ],
      "text/plain": [
       "               Модель  ROC-AUC без учета баланса  ROC-AUC upsample x3  \\\n",
       "0  Линейная регрессия                      0.842                0.842   \n",
       "1     Решающее дерево                      0.843                0.870   \n",
       "2       Случайный лес                      0.853                0.903   \n",
       "\n",
       "   ROC-AUC downsample x0.35  \n",
       "0                     0.837  \n",
       "1                     0.831  \n",
       "2                     0.846  "
      ]
     },
     "metadata": {},
     "output_type": "display_data"
    }
   ],
   "source": [
    "line = {'Модель':['Линейная регрессия' ,'Решающее дерево',  'Случайный лес'], \n",
    "        'ROC-AUC без учета баланса': [0.842, 0.843,  0.853],\n",
    "        'ROC-AUC upsample x3': [0.842, 0.870,  0.903],\n",
    "       'ROC-AUC downsample x0.35': [0.837,0.831, 0.846]}\n",
    "pivot = pd.DataFrame.from_dict(line)\n",
    "\n",
    "display(pivot)"
   ]
  },
  {
   "cell_type": "markdown",
   "id": "b4266920",
   "metadata": {},
   "source": [
    "Во всех трех случаях лучшая метрика ROC_AUC у Случайного леса: с upsample x3 она улучшается, с downsample x0.35 становится еще хуже, чем без учета баланса классов. \n",
    "\n",
    "Самая лучшая метрика Случайный лес ROC-AUC upsample x3 = 0.903"
   ]
  },
  {
   "cell_type": "markdown",
   "id": "aa184778",
   "metadata": {},
   "source": [
    "## 6. Тестирование лучшей модели"
   ]
  },
  {
   "cell_type": "code",
   "execution_count": 62,
   "id": "a87274b9",
   "metadata": {},
   "outputs": [
    {
     "name": "stdout",
     "output_type": "stream",
     "text": [
      "Точность:0.531\n",
      "Полнота:0.784\n",
      "Accuracy:0.758\n",
      "ROC_AUC:0.854\n"
     ]
    },
    {
     "data": {
      "image/png": "[encoded data removed]",
      "text/plain": [
       "<Figure size 432x288 with 1 Axes>"
      ]
     },
     "metadata": {
      "needs_background": "light"
     },
     "output_type": "display_data"
    }
   ],
   "source": [
    "features_upsampled, target_upsampled = upsample(features_train_ohe, target_train, 3)\n",
    "forest = RandomForestClassifier(random_state=12345, n_estimators=16, max_depth=9)\n",
    "forest.fit(features_upsampled, target_upsampled)\n",
    "predictions_test=forest.predict(features_test_ohe) \n",
    "probabilities_test = forest.predict_proba(features_test_ohe)\n",
    "probabilities_one_test = probabilities_test[:,1]\n",
    "fpr, tpr, thresholds = roc_curve(target_test, probabilities_one_test)\n",
    "plt.figure()  \n",
    "plt.plot(fpr, tpr) #ROC-кривая модели \n",
    "plt.plot([0,1],[0,1], linestyle='--')  #ROC-кривая случайной модели \n",
    "plt.xlim([0.0, 1.0])\n",
    "plt.ylim([0.0, 1.0])\n",
    "plt.xlabel('False Positive Rate')\n",
    "plt.title('ROC - кривая')\n",
    "print('Точность:{:.3f}' .format(precision_score(target_test, predictions_test)))\n",
    "print('Полнота:{:.3f}' .format(recall_score(target_test, predictions_test)))\n",
    "print('Accuracy:{:.3f}' .format(accuracy_score(target_test, predictions_test)))\n",
    "print('ROC_AUC:{:.3f}' .format(roc_auc_score(target_test, probabilities_one_test)))"
   ]
  },
  {
   "cell_type": "markdown",
   "id": "5c1913e6",
   "metadata": {},
   "source": [
    "На тестовой выборке модель показала ROC_AUC = 0.854 и Accuracy = 0.758. Не очень высокие показатели. К тому же точность всего 0.531 и на обучающей выборке был ROC_AUC = 0.903, что говорит о небольшом переобучении и со временем модель модель может потерять в качестве."
   ]
  },
  {
   "cell_type": "markdown",
   "id": "a77a0f68",
   "metadata": {},
   "source": [
    "## 7. Обучение и тестирование модели градиентного бустинга"
   ]
  },
  {
   "cell_type": "markdown",
   "id": "d7cfd557",
   "metadata": {},
   "source": [
    "Попробуем модель градиентного бустинга CatBoost, так как обучение на предыдущем этапе не дало удовлетворительных результатов. "
   ]
  },
  {
   "cell_type": "code",
   "execution_count": 63,
   "id": "2f01f40b",
   "metadata": {},
   "outputs": [],
   "source": [
    "#создадим список категориальных признаков\n",
    "cat_features =['gender', 'seniorcitizen', 'partner','dependents','type','paperlessbilling',\n",
    "               'paymentmethod','multiplelines','internetservice','onlinesecurity','onlinebackup',\n",
    "               'deviceprotection','techsupport','streamingtv','streamingmovies']"
   ]
  },
  {
   "cell_type": "code",
   "execution_count": 64,
   "id": "276c922d",
   "metadata": {},
   "outputs": [
    {
     "name": "stdout",
     "output_type": "stream",
     "text": [
      "Лучшая метрика ROC_AUC: 0.906\n",
      "Лучшие гиперпараметры для модели:  {'depth': 5, 'learning_rate': 0.5}\n",
      "CPU times: user 4.7 s, sys: 626 ms, total: 5.33 s\n",
      "Wall time: 1h 16min 31s\n"
     ]
    }
   ],
   "source": [
    "%%time\n",
    "cat = CatBoostClassifier(iterations=200, verbose=False,cat_features = cat_features)\n",
    "cat_params = {'learning_rate':[0.5, 0.8, 1.0], 'depth':[5,10, 15]} \n",
    "cat_grid = GridSearchCV(cat, cat_params, scoring='roc_auc',  cv=4, n_jobs = -1)\n",
    "cat_grid.fit(features_train, target_train)\n",
    "\n",
    "print('Лучшая метрика ROC_AUC: {:.3f}' .format(cat_grid.best_score_))\n",
    "print('Лучшие гиперпараметры для модели: ', cat_grid.best_params_)"
   ]
  },
  {
   "cell_type": "markdown",
   "id": "69af6a25",
   "metadata": {},
   "source": [
    "ROC_AUC на кроссвалидации 0.906 - намного лучше чем у простых моделей\n",
    "\n",
    "И сразу проведем тестирование модели: "
   ]
  },
  {
   "cell_type": "code",
   "execution_count": 66,
   "id": "0e830b6f",
   "metadata": {},
   "outputs": [
    {
     "name": "stdout",
     "output_type": "stream",
     "text": [
      "Точность: 0.800\n",
      "Полнота: 0.720\n",
      "Accuracy: 0.878\n",
      "ROC_AUC: 0.916\n",
      "CPU times: user 4.34 s, sys: 287 ms, total: 4.62 s\n",
      "Wall time: 2.02 s\n"
     ]
    },
    {
     "data": {
      "image/png": "[encoded data removed]",
      "text/plain": [
       "<Figure size 432x288 with 1 Axes>"
      ]
     },
     "metadata": {
      "needs_background": "light"
     },
     "output_type": "display_data"
    }
   ],
   "source": [
    "%%time\n",
    "cat_test = CatBoostClassifier(iterations= 200, verbose=0,cat_features=cat_features, \n",
    "                        learning_rate=0.5,depth=5, random_state=12345)\n",
    "cat_test.fit(features_train, target_train)\n",
    "predictions_cat=cat_test.predict(features_test)\n",
    "probabilities_test =cat_test.predict_proba(features_test)\n",
    "probabilities_one_test = probabilities_test[:,1]\n",
    "fpr, tpr, thresholds = roc_curve(target_test, probabilities_one_test)\n",
    "plt.figure()  \n",
    "plt.plot(fpr, tpr) #ROC-кривая модели \n",
    "plt.plot([0,1],[0,1], linestyle='--')  #ROC-кривая случайной модели \n",
    "plt.xlim([0.0, 1.0])\n",
    "plt.ylim([0.0, 1.0])\n",
    "plt.xlabel('False Positive Rate')\n",
    "plt.ylabel('True Positive Rate')\n",
    "plt.title('ROC - кривая')\n",
    "print('Точность: {:.3f}' .format(precision_score(target_test, predictions_cat)))\n",
    "print('Полнота: {:.3f}' .format(recall_score(target_test, predictions_cat)))\n",
    "print('Accuracy: {:.3f}' .format(accuracy_score(target_test, predictions_cat)))\n",
    "print('ROC_AUC: {:.3f}' .format(roc_auc_score(target_test, probabilities_one_test)))"
   ]
  },
  {
   "cell_type": "markdown",
   "id": "5590bdce",
   "metadata": {},
   "source": [
    "На тесте ROC_AUC = 0.916 и Accuracy = 0.878\n",
    "\n",
    "Проверим важность признаков для этой модели:"
   ]
  },
  {
   "cell_type": "code",
   "execution_count": 67,
   "id": "4f6ad892",
   "metadata": {},
   "outputs": [
    {
     "data": {
      "text/html": [
       "<div>\n",
       "<style scoped>\n",
       "    .dataframe tbody tr th:only-of-type {\n",
       "        vertical-align: middle;\n",
       "    }\n",
       "\n",
       "    .dataframe tbody tr th {\n",
       "        vertical-align: top;\n",
       "    }\n",
       "\n",
       "    .dataframe thead th {\n",
       "        text-align: right;\n",
       "    }\n",
       "</style>\n",
       "<table border=\"1\" class=\"dataframe\">\n",
       "  <thead>\n",
       "    <tr style=\"text-align: right;\">\n",
       "      <th></th>\n",
       "      <th>feature</th>\n",
       "      <th>importance</th>\n",
       "    </tr>\n",
       "  </thead>\n",
       "  <tbody>\n",
       "    <tr>\n",
       "      <th>0</th>\n",
       "      <td>lifetime</td>\n",
       "      <td>57.214145</td>\n",
       "    </tr>\n",
       "    <tr>\n",
       "      <th>1</th>\n",
       "      <td>monthlycharges</td>\n",
       "      <td>11.685069</td>\n",
       "    </tr>\n",
       "    <tr>\n",
       "      <th>2</th>\n",
       "      <td>type</td>\n",
       "      <td>4.932529</td>\n",
       "    </tr>\n",
       "    <tr>\n",
       "      <th>3</th>\n",
       "      <td>techsupport</td>\n",
       "      <td>4.509663</td>\n",
       "    </tr>\n",
       "    <tr>\n",
       "      <th>4</th>\n",
       "      <td>paymentmethod</td>\n",
       "      <td>3.466323</td>\n",
       "    </tr>\n",
       "    <tr>\n",
       "      <th>5</th>\n",
       "      <td>multiplelines</td>\n",
       "      <td>2.722612</td>\n",
       "    </tr>\n",
       "    <tr>\n",
       "      <th>6</th>\n",
       "      <td>onlinebackup</td>\n",
       "      <td>2.354551</td>\n",
       "    </tr>\n",
       "    <tr>\n",
       "      <th>7</th>\n",
       "      <td>internetservice</td>\n",
       "      <td>2.102662</td>\n",
       "    </tr>\n",
       "    <tr>\n",
       "      <th>8</th>\n",
       "      <td>onlinesecurity</td>\n",
       "      <td>1.906594</td>\n",
       "    </tr>\n",
       "    <tr>\n",
       "      <th>9</th>\n",
       "      <td>paperlessbilling</td>\n",
       "      <td>1.900346</td>\n",
       "    </tr>\n",
       "    <tr>\n",
       "      <th>10</th>\n",
       "      <td>gender</td>\n",
       "      <td>1.451165</td>\n",
       "    </tr>\n",
       "    <tr>\n",
       "      <th>11</th>\n",
       "      <td>streamingmovies</td>\n",
       "      <td>1.319570</td>\n",
       "    </tr>\n",
       "    <tr>\n",
       "      <th>12</th>\n",
       "      <td>seniorcitizen</td>\n",
       "      <td>1.088396</td>\n",
       "    </tr>\n",
       "    <tr>\n",
       "      <th>13</th>\n",
       "      <td>deviceprotection</td>\n",
       "      <td>1.000200</td>\n",
       "    </tr>\n",
       "    <tr>\n",
       "      <th>14</th>\n",
       "      <td>dependents</td>\n",
       "      <td>0.893628</td>\n",
       "    </tr>\n",
       "    <tr>\n",
       "      <th>15</th>\n",
       "      <td>streamingtv</td>\n",
       "      <td>0.813760</td>\n",
       "    </tr>\n",
       "    <tr>\n",
       "      <th>16</th>\n",
       "      <td>partner</td>\n",
       "      <td>0.638788</td>\n",
       "    </tr>\n",
       "  </tbody>\n",
       "</table>\n",
       "</div>"
      ],
      "text/plain": [
       "             feature  importance\n",
       "0           lifetime   57.214145\n",
       "1     monthlycharges   11.685069\n",
       "2               type    4.932529\n",
       "3        techsupport    4.509663\n",
       "4      paymentmethod    3.466323\n",
       "5      multiplelines    2.722612\n",
       "6       onlinebackup    2.354551\n",
       "7    internetservice    2.102662\n",
       "8     onlinesecurity    1.906594\n",
       "9   paperlessbilling    1.900346\n",
       "10            gender    1.451165\n",
       "11   streamingmovies    1.319570\n",
       "12     seniorcitizen    1.088396\n",
       "13  deviceprotection    1.000200\n",
       "14        dependents    0.893628\n",
       "15       streamingtv    0.813760\n",
       "16           partner    0.638788"
      ]
     },
     "metadata": {},
     "output_type": "display_data"
    }
   ],
   "source": [
    "importance = cat_test.feature_importances_\n",
    "feature_list=list(features_train.columns)\n",
    "feature_results=pd.DataFrame({'feature': feature_list, 'importance': importance}).sort_values('importance', ascending=False).reset_index(drop=True)\n",
    "display(feature_results)"
   ]
  },
  {
   "cell_type": "code",
   "execution_count": 69,
   "id": "000b60ed",
   "metadata": {},
   "outputs": [],
   "source": [
    "#Протестируем модель без признаков низкой важности\n",
    "\n",
    "cat_features_filterred = ['type',\n",
    "               'paymentmethod','multiplelines','onlinebackup','internetservice',\n",
    "               'techsupport','onlinesecurity']\n",
    "features_train_filtered = features_train.drop(['dependents','partner','deviceprotection','streamingmovies',\n",
    "                    'seniorcitizen','streamingtv','gender','paperlessbilling'],axis =1 )\n",
    "features_test_filtered = features_test.drop(['dependents','partner','deviceprotection','streamingmovies',\n",
    "                    'seniorcitizen','streamingtv','gender','paperlessbilling'], axis =1)\n",
    "\n"
   ]
  },
  {
   "cell_type": "code",
   "execution_count": 70,
   "id": "b27b3ed4",
   "metadata": {},
   "outputs": [
    {
     "name": "stdout",
     "output_type": "stream",
     "text": [
      "Точность: 0.802\n",
      "Полнота: 0.724\n",
      "Accuracy: 0.879\n",
      "ROC_AUC: 0.924\n",
      "CPU times: user 3.31 s, sys: 319 ms, total: 3.63 s\n",
      "Wall time: 1.68 s\n"
     ]
    },
    {
     "data": {
      "image/png": "[encoded data removed]",
      "text/plain": [
       "<Figure size 432x288 with 1 Axes>"
      ]
     },
     "metadata": {
      "needs_background": "light"
     },
     "output_type": "display_data"
    }
   ],
   "source": [
    "%%time\n",
    "cat_test = CatBoostClassifier(iterations= 200, verbose=0,cat_features=cat_features_filterred, \n",
    "                        learning_rate=0.5,depth=5, random_state=12345)\n",
    "cat_test.fit(features_train_filtered, target_train)\n",
    "predictions_cat=cat_test.predict(features_test_filtered)\n",
    "probabilities_test =cat_test.predict_proba(features_test_filtered)\n",
    "probabilities_one_test = probabilities_test[:,1]\n",
    "fpr, tpr, thresholds = roc_curve(target_test, probabilities_one_test)\n",
    "plt.figure()  \n",
    "plt.plot(fpr, tpr) #ROC-кривая модели \n",
    "plt.plot([0,1],[0,1], linestyle='--')  #ROC-кривая случайной модели \n",
    "plt.xlim([0.0, 1.0])\n",
    "plt.ylim([0.0, 1.0])\n",
    "plt.xlabel('False Positive Rate')\n",
    "plt.ylabel('True Positive Rate')\n",
    "plt.title('ROC - кривая')\n",
    "print('Точность: {:.3f}' .format(precision_score(target_test, predictions_cat)))\n",
    "print('Полнота: {:.3f}' .format(recall_score(target_test, predictions_cat)))\n",
    "print('Accuracy: {:.3f}' .format(accuracy_score(target_test, predictions_cat)))\n",
    "print('ROC_AUC: {:.3f}' .format(roc_auc_score(target_test, probabilities_one_test)))"
   ]
  },
  {
   "cell_type": "markdown",
   "id": "f05dd1e3",
   "metadata": {},
   "source": [
    "ROC_AUC немного повысился и равен 0.924, Accuracy = 0.879. Так же немного увеличились Точность и Полнота.\n",
    "\n",
    "Проверим модель на адекватность.\n",
    "\n",
    "Сначала проверим, что модель не предсказывает только какой-то один класс."
   ]
  },
  {
   "cell_type": "code",
   "execution_count": 71,
   "id": "99dd05e9",
   "metadata": {},
   "outputs": [
    {
     "data": {
      "text/plain": [
       "Counter({0: 1604, 1: 506})"
      ]
     },
     "execution_count": 71,
     "metadata": {},
     "output_type": "execute_result"
    }
   ],
   "source": [
    "collections.Counter(predictions_cat)"
   ]
  },
  {
   "cell_type": "markdown",
   "id": "829fa984",
   "metadata": {},
   "source": [
    "Предсказывает оба класса"
   ]
  },
  {
   "cell_type": "code",
   "execution_count": 73,
   "id": "429949c9",
   "metadata": {},
   "outputs": [
    {
     "name": "stdout",
     "output_type": "stream",
     "text": [
      "Accuracy 0.7342543681430312\n",
      "ROC_AUC: 0.5\n"
     ]
    }
   ],
   "source": [
    "#Теперь сравним модель с константной моделью, \n",
    "#которая любому объекту пронозирует класс \"0\" (тк этого класса большинство)\n",
    "\n",
    "predictions_train = pd.Series(target_train.replace(1, 0))\n",
    "print('Accuracy',accuracy_score(target_train, predictions_train))\n",
    "print('ROC_AUC:', roc_auc_score(target_train, predictions_train))"
   ]
  },
  {
   "cell_type": "markdown",
   "id": "6c3af1dd",
   "metadata": {},
   "source": [
    "У модели метрики Accuracy и ROC_AUC выше чем у константной модели"
   ]
  },
  {
   "cell_type": "markdown",
   "id": "af6c430a",
   "metadata": {},
   "source": [
    "**Вывод**\n",
    "Модели удалось превысить порог 0.88, модель обучена и адекватна"
   ]
  },
  {
   "cell_type": "markdown",
   "id": "f862f257",
   "metadata": {},
   "source": [
    "## 8. Общие выводы"
   ]
  },
  {
   "cell_type": "markdown",
   "id": "f3f41634",
   "metadata": {},
   "source": [
    "Оператор связи «Ниединогоразрыва.ком» предоставил данные в 4 файлах. Необходимо было обучить модель, которая предсказывала бы отток клиентов. Целевая метрика - ROC_AUC не ниже 0.88\n",
    "\n",
    "После предобаработки данных объединили их в один файл.\n",
    "\n",
    "Данные разделили на обучающую и тестовую выборки в пропорции 70:30.\n",
    "\n",
    "Произвели предобработку признаков: категориальные данные закодировали, количественные отмасштабировали. Для обучения взяли 3 простые модели - Логистическая регрессия, Дерево решений, Случайный лес - и модель градиентного бустинга - CatBoost и с помощью кроссвалидации нашли оптимальные параметры.\n",
    "\n",
    "Среди простых моделей лучшей на кроссвалидации оказалась модель Случайный лес. Но на тесте метрика ROC_AUC не смогла достичь порога 0.88 и accuracy лишь ненамного лучше, чем у константной модели. Модель же градиентного бустинга показала гораздо лучший результат: на тесте метрика ROC_AUC = 0.924 и accuracy=0.879, что лучше чем у константной модели и выше целевого порога 0.88.\n",
    "\n",
    "Следовательно модель CatBoost можно брать в работу."
   ]
  },
  {
   "cell_type": "markdown",
   "id": "f86f52db",
   "metadata": {},
   "source": [
    "# Отчет о проделаной работе"
   ]
  },
  {
   "cell_type": "markdown",
   "id": "ac8bbf45",
   "metadata": {},
   "source": [
    "*- Какие пункты плана были выполнены, а какие — нет (поясните почему)?*\n",
    "\n",
    "Все пункты плана были выполнены, так же был добавлен еще один пункт с обучением и тестированием более сложной модели, так как выбранные простые модели не давали нужный результат, который был задан для себя (не преодолевали порог в 0.88). Для этого была рассмотрена модель градиентного бустинга, так как по опыту, вероятность получения выоского значения roc_auc гораздо выше, чем у простых моделей.\n"
   ]
  },
  {
   "cell_type": "markdown",
   "id": "2d8b9ab4",
   "metadata": {},
   "source": [
    "*- Какие трудности возникли и как вы их преодолели?*\n",
    "\n",
    "Особо вопросов в ходе работы не возникало, помогало пользование предыдущими проектами, следование комментариям прошлых ревьюеров и записи вебинаров с преподавателем."
   ]
  },
  {
   "cell_type": "markdown",
   "id": "ae067ff5",
   "metadata": {},
   "source": [
    "*- Какие ключевые шаги в решении задачи выделили?*\n",
    "\n",
    "Я считаю, что ключевым является грамотная предобработка данных, ей все таки стоит уделять особое внимание, так как в ходе анализа мы понимаем на что следует обратить особое внимание, а что можно отбросить в сторону и не использовать в дальнейшнем исследовании, чтобы не создавало проблем с обучением моделей.\n",
    "\n",
    "Так же правильное чтение и понимание изначально выгруженных данных. Конечно же, если не понятно, то, считаю, что лучше уточнить и спросить у коллеги, который занимается непосредственно работой с архивированием данных."
   ]
  },
  {
   "cell_type": "markdown",
   "id": "e0b0033e",
   "metadata": {},
   "source": [
    "*- Какая ваша итоговая модель и какое у неё качество?*\n",
    "\n",
    "Итоговая модель - CatBoost с показателями roc_auc = 0.924 и accuracy=0.879. \n",
    "Это самые высокие показатели среди четырех тестируемых моделей."
   ]
  },
  {
   "cell_type": "code",
   "execution_count": null,
   "id": "2a479b48",
   "metadata": {},
   "outputs": [],
   "source": []
  }
 ],
 "metadata": {
  "kernelspec": {
   "display_name": "Python 3 (ipykernel)",
   "language": "python",
   "name": "python3"
  },
  "language_info": {
   "codemirror_mode": {
    "name": "ipython",
    "version": 3
   },
   "file_extension": ".py",
   "mimetype": "text/x-python",
   "name": "python",
   "nbconvert_exporter": "python",
   "pygments_lexer": "ipython3",
   "version": "3.9.7"
  }
 },
 "nbformat": 4,
 "nbformat_minor": 5
}
